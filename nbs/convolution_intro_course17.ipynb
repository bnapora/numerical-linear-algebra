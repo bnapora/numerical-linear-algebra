{
  "nbformat": 4,
  "nbformat_minor": 0,
  "metadata": {
    "anaconda-cloud": {},
    "kernelspec": {
      "display_name": "Python 2",
      "language": "python",
      "name": "python2"
    },
    "language_info": {
      "codemirror_mode": {
        "name": "ipython",
        "version": 2
      },
      "file_extension": ".py",
      "mimetype": "text/x-python",
      "name": "python",
      "nbconvert_exporter": "python",
      "pygments_lexer": "ipython2",
      "version": "2.7.12"
    },
    "nav_menu": {},
    "toc": {
      "navigate_menu": true,
      "number_sections": true,
      "sideBar": true,
      "threshold": 6,
      "toc_cell": false,
      "toc_section_display": "block",
      "toc_window_display": false
    },
    "widgets": {
      "application/vnd.jupyter.widget-state+json": {
        "741f78445aad4c76a0ac687ae8a9d596": {
          "model_module": "@jupyter-widgets/controls",
          "model_name": "VBoxModel",
          "state": {
            "_view_name": "VBoxView",
            "_dom_classes": [
              "widget-interact"
            ],
            "_model_name": "VBoxModel",
            "_view_module": "@jupyter-widgets/controls",
            "_model_module_version": "1.5.0",
            "_view_count": null,
            "_view_module_version": "1.5.0",
            "box_style": "",
            "layout": "IPY_MODEL_46ccd0944ce34fd4a8e77dcba2c6ce3c",
            "_model_module": "@jupyter-widgets/controls",
            "children": [
              "IPY_MODEL_54e3af435ccc46b1be28f00a53916ceb",
              "IPY_MODEL_9ae386f3f5cf43cbb3ca65981adb10a9",
              "IPY_MODEL_77a04043e7f84730b18c59e57526629d",
              "IPY_MODEL_50402b9b0b9347e78aed419f07211397",
              "IPY_MODEL_ddacec9dbccf4ae18a72306cc418e2f6"
            ]
          }
        },
        "46ccd0944ce34fd4a8e77dcba2c6ce3c": {
          "model_module": "@jupyter-widgets/base",
          "model_name": "LayoutModel",
          "state": {
            "_view_name": "LayoutView",
            "grid_template_rows": null,
            "right": null,
            "justify_content": null,
            "_view_module": "@jupyter-widgets/base",
            "_model_module_version": "1.2.0",
            "_view_count": null,
            "flex_flow": null,
            "min_width": null,
            "border": null,
            "align_items": null,
            "bottom": null,
            "_model_module": "@jupyter-widgets/base",
            "top": null,
            "grid_column": null,
            "width": null,
            "overflow_x": null,
            "grid_auto_flow": null,
            "grid_area": null,
            "grid_template_columns": null,
            "flex": null,
            "_model_name": "LayoutModel",
            "justify_items": null,
            "grid_row": null,
            "max_height": null,
            "align_content": null,
            "visibility": null,
            "overflow": null,
            "height": null,
            "min_height": null,
            "padding": null,
            "grid_auto_rows": null,
            "grid_gap": null,
            "overflow_y": null,
            "max_width": null,
            "order": null,
            "_view_module_version": "1.2.0",
            "align_self": null,
            "grid_template_areas": null,
            "object_position": null,
            "object_fit": null,
            "grid_auto_columns": null,
            "margin": null,
            "display": null,
            "left": null
          }
        },
        "54e3af435ccc46b1be28f00a53916ceb": {
          "model_module": "@jupyter-widgets/controls",
          "model_name": "IntSliderModel",
          "state": {
            "_view_name": "IntSliderView",
            "style": "IPY_MODEL_568a860b21964aca98895e42a0256eeb",
            "_view_module": "@jupyter-widgets/controls",
            "_dom_classes": [],
            "orientation": "horizontal",
            "min": 0,
            "max": 28,
            "_model_name": "IntSliderModel",
            "_model_module_version": "1.5.0",
            "value": 0,
            "_view_count": null,
            "disabled": false,
            "step": 1,
            "continuous_update": true,
            "description_tooltip": null,
            "readout_format": "d",
            "_view_module_version": "1.5.0",
            "readout": true,
            "_model_module": "@jupyter-widgets/controls",
            "layout": "IPY_MODEL_80bfe14786054be0ba57cd236415f2d0",
            "description": "x1"
          }
        },
        "9ae386f3f5cf43cbb3ca65981adb10a9": {
          "model_module": "@jupyter-widgets/controls",
          "model_name": "IntSliderModel",
          "state": {
            "_view_name": "IntSliderView",
            "style": "IPY_MODEL_037eba4bb04e4b8a9cfd2d1888ae857d",
            "_view_module": "@jupyter-widgets/controls",
            "_dom_classes": [],
            "orientation": "horizontal",
            "min": 0,
            "max": 28,
            "_model_name": "IntSliderModel",
            "_model_module_version": "1.5.0",
            "value": 28,
            "_view_count": null,
            "disabled": false,
            "step": 1,
            "continuous_update": true,
            "description_tooltip": null,
            "readout_format": "d",
            "_view_module_version": "1.5.0",
            "readout": true,
            "_model_module": "@jupyter-widgets/controls",
            "layout": "IPY_MODEL_ba6351ff9cd74abeb88bfb30efc02ae7",
            "description": "x2"
          }
        },
        "77a04043e7f84730b18c59e57526629d": {
          "model_module": "@jupyter-widgets/controls",
          "model_name": "IntSliderModel",
          "state": {
            "_view_name": "IntSliderView",
            "style": "IPY_MODEL_1850cdf3a5ac42fa8fa01d0cf049d0c5",
            "_view_module": "@jupyter-widgets/controls",
            "_dom_classes": [],
            "orientation": "horizontal",
            "min": 0,
            "max": 28,
            "_model_name": "IntSliderModel",
            "_model_module_version": "1.5.0",
            "value": 0,
            "_view_count": null,
            "disabled": false,
            "step": 1,
            "continuous_update": true,
            "description_tooltip": null,
            "readout_format": "d",
            "_view_module_version": "1.5.0",
            "readout": true,
            "_model_module": "@jupyter-widgets/controls",
            "layout": "IPY_MODEL_9297b36a6b2e467b8f78c503acb9aa6a",
            "description": "y1"
          }
        },
        "50402b9b0b9347e78aed419f07211397": {
          "model_module": "@jupyter-widgets/controls",
          "model_name": "IntSliderModel",
          "state": {
            "_view_name": "IntSliderView",
            "style": "IPY_MODEL_e1b3dd6ebb0441cb8ba9c9cbae8bc5eb",
            "_view_module": "@jupyter-widgets/controls",
            "_dom_classes": [],
            "orientation": "horizontal",
            "min": 0,
            "max": 28,
            "_model_name": "IntSliderModel",
            "_model_module_version": "1.5.0",
            "value": 28,
            "_view_count": null,
            "disabled": false,
            "step": 1,
            "continuous_update": true,
            "description_tooltip": null,
            "readout_format": "d",
            "_view_module_version": "1.5.0",
            "readout": true,
            "_model_module": "@jupyter-widgets/controls",
            "layout": "IPY_MODEL_4342700679634d5e80670963a9bc9c01",
            "description": "y2"
          }
        },
        "ddacec9dbccf4ae18a72306cc418e2f6": {
          "model_module": "@jupyter-widgets/output",
          "model_name": "OutputModel",
          "state": {
            "_view_name": "OutputView",
            "_view_module": "@jupyter-widgets/output",
            "_dom_classes": [],
            "_model_name": "OutputModel",
            "outputs": [
              {
                "output_type": "display_data",
                "metadata": {
                  "tags": [],
                  "needs_background": "light"
                },
                "image/png": "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\n",
                "text/plain": "<Figure size 216x432 with 1 Axes>"
              }
            ],
            "msg_id": "",
            "_model_module_version": "1.0.0",
            "_view_count": null,
            "_view_module_version": "1.0.0",
            "layout": "IPY_MODEL_6bfa383147e34144938c261ab64620a9",
            "_model_module": "@jupyter-widgets/output"
          }
        },
        "568a860b21964aca98895e42a0256eeb": {
          "model_module": "@jupyter-widgets/controls",
          "model_name": "SliderStyleModel",
          "state": {
            "_view_name": "StyleView",
            "handle_color": null,
            "_model_name": "SliderStyleModel",
            "description_width": "",
            "_view_module": "@jupyter-widgets/base",
            "_model_module_version": "1.5.0",
            "_view_count": null,
            "_view_module_version": "1.2.0",
            "_model_module": "@jupyter-widgets/controls"
          }
        },
        "80bfe14786054be0ba57cd236415f2d0": {
          "model_module": "@jupyter-widgets/base",
          "model_name": "LayoutModel",
          "state": {
            "_view_name": "LayoutView",
            "grid_template_rows": null,
            "right": null,
            "justify_content": null,
            "_view_module": "@jupyter-widgets/base",
            "_model_module_version": "1.2.0",
            "_view_count": null,
            "flex_flow": null,
            "min_width": null,
            "border": null,
            "align_items": null,
            "bottom": null,
            "_model_module": "@jupyter-widgets/base",
            "top": null,
            "grid_column": null,
            "width": null,
            "overflow_x": null,
            "grid_auto_flow": null,
            "grid_area": null,
            "grid_template_columns": null,
            "flex": null,
            "_model_name": "LayoutModel",
            "justify_items": null,
            "grid_row": null,
            "max_height": null,
            "align_content": null,
            "visibility": null,
            "overflow": null,
            "height": null,
            "min_height": null,
            "padding": null,
            "grid_auto_rows": null,
            "grid_gap": null,
            "overflow_y": null,
            "max_width": null,
            "order": null,
            "_view_module_version": "1.2.0",
            "align_self": null,
            "grid_template_areas": null,
            "object_position": null,
            "object_fit": null,
            "grid_auto_columns": null,
            "margin": null,
            "display": null,
            "left": null
          }
        },
        "037eba4bb04e4b8a9cfd2d1888ae857d": {
          "model_module": "@jupyter-widgets/controls",
          "model_name": "SliderStyleModel",
          "state": {
            "_view_name": "StyleView",
            "handle_color": null,
            "_model_name": "SliderStyleModel",
            "description_width": "",
            "_view_module": "@jupyter-widgets/base",
            "_model_module_version": "1.5.0",
            "_view_count": null,
            "_view_module_version": "1.2.0",
            "_model_module": "@jupyter-widgets/controls"
          }
        },
        "ba6351ff9cd74abeb88bfb30efc02ae7": {
          "model_module": "@jupyter-widgets/base",
          "model_name": "LayoutModel",
          "state": {
            "_view_name": "LayoutView",
            "grid_template_rows": null,
            "right": null,
            "justify_content": null,
            "_view_module": "@jupyter-widgets/base",
            "_model_module_version": "1.2.0",
            "_view_count": null,
            "flex_flow": null,
            "min_width": null,
            "border": null,
            "align_items": null,
            "bottom": null,
            "_model_module": "@jupyter-widgets/base",
            "top": null,
            "grid_column": null,
            "width": null,
            "overflow_x": null,
            "grid_auto_flow": null,
            "grid_area": null,
            "grid_template_columns": null,
            "flex": null,
            "_model_name": "LayoutModel",
            "justify_items": null,
            "grid_row": null,
            "max_height": null,
            "align_content": null,
            "visibility": null,
            "overflow": null,
            "height": null,
            "min_height": null,
            "padding": null,
            "grid_auto_rows": null,
            "grid_gap": null,
            "overflow_y": null,
            "max_width": null,
            "order": null,
            "_view_module_version": "1.2.0",
            "align_self": null,
            "grid_template_areas": null,
            "object_position": null,
            "object_fit": null,
            "grid_auto_columns": null,
            "margin": null,
            "display": null,
            "left": null
          }
        },
        "1850cdf3a5ac42fa8fa01d0cf049d0c5": {
          "model_module": "@jupyter-widgets/controls",
          "model_name": "SliderStyleModel",
          "state": {
            "_view_name": "StyleView",
            "handle_color": null,
            "_model_name": "SliderStyleModel",
            "description_width": "",
            "_view_module": "@jupyter-widgets/base",
            "_model_module_version": "1.5.0",
            "_view_count": null,
            "_view_module_version": "1.2.0",
            "_model_module": "@jupyter-widgets/controls"
          }
        },
        "9297b36a6b2e467b8f78c503acb9aa6a": {
          "model_module": "@jupyter-widgets/base",
          "model_name": "LayoutModel",
          "state": {
            "_view_name": "LayoutView",
            "grid_template_rows": null,
            "right": null,
            "justify_content": null,
            "_view_module": "@jupyter-widgets/base",
            "_model_module_version": "1.2.0",
            "_view_count": null,
            "flex_flow": null,
            "min_width": null,
            "border": null,
            "align_items": null,
            "bottom": null,
            "_model_module": "@jupyter-widgets/base",
            "top": null,
            "grid_column": null,
            "width": null,
            "overflow_x": null,
            "grid_auto_flow": null,
            "grid_area": null,
            "grid_template_columns": null,
            "flex": null,
            "_model_name": "LayoutModel",
            "justify_items": null,
            "grid_row": null,
            "max_height": null,
            "align_content": null,
            "visibility": null,
            "overflow": null,
            "height": null,
            "min_height": null,
            "padding": null,
            "grid_auto_rows": null,
            "grid_gap": null,
            "overflow_y": null,
            "max_width": null,
            "order": null,
            "_view_module_version": "1.2.0",
            "align_self": null,
            "grid_template_areas": null,
            "object_position": null,
            "object_fit": null,
            "grid_auto_columns": null,
            "margin": null,
            "display": null,
            "left": null
          }
        },
        "e1b3dd6ebb0441cb8ba9c9cbae8bc5eb": {
          "model_module": "@jupyter-widgets/controls",
          "model_name": "SliderStyleModel",
          "state": {
            "_view_name": "StyleView",
            "handle_color": null,
            "_model_name": "SliderStyleModel",
            "description_width": "",
            "_view_module": "@jupyter-widgets/base",
            "_model_module_version": "1.5.0",
            "_view_count": null,
            "_view_module_version": "1.2.0",
            "_model_module": "@jupyter-widgets/controls"
          }
        },
        "4342700679634d5e80670963a9bc9c01": {
          "model_module": "@jupyter-widgets/base",
          "model_name": "LayoutModel",
          "state": {
            "_view_name": "LayoutView",
            "grid_template_rows": null,
            "right": null,
            "justify_content": null,
            "_view_module": "@jupyter-widgets/base",
            "_model_module_version": "1.2.0",
            "_view_count": null,
            "flex_flow": null,
            "min_width": null,
            "border": null,
            "align_items": null,
            "bottom": null,
            "_model_module": "@jupyter-widgets/base",
            "top": null,
            "grid_column": null,
            "width": null,
            "overflow_x": null,
            "grid_auto_flow": null,
            "grid_area": null,
            "grid_template_columns": null,
            "flex": null,
            "_model_name": "LayoutModel",
            "justify_items": null,
            "grid_row": null,
            "max_height": null,
            "align_content": null,
            "visibility": null,
            "overflow": null,
            "height": null,
            "min_height": null,
            "padding": null,
            "grid_auto_rows": null,
            "grid_gap": null,
            "overflow_y": null,
            "max_width": null,
            "order": null,
            "_view_module_version": "1.2.0",
            "align_self": null,
            "grid_template_areas": null,
            "object_position": null,
            "object_fit": null,
            "grid_auto_columns": null,
            "margin": null,
            "display": null,
            "left": null
          }
        },
        "6bfa383147e34144938c261ab64620a9": {
          "model_module": "@jupyter-widgets/base",
          "model_name": "LayoutModel",
          "state": {
            "_view_name": "LayoutView",
            "grid_template_rows": null,
            "right": null,
            "justify_content": null,
            "_view_module": "@jupyter-widgets/base",
            "_model_module_version": "1.2.0",
            "_view_count": null,
            "flex_flow": null,
            "min_width": null,
            "border": null,
            "align_items": null,
            "bottom": null,
            "_model_module": "@jupyter-widgets/base",
            "top": null,
            "grid_column": null,
            "width": null,
            "overflow_x": null,
            "grid_auto_flow": null,
            "grid_area": null,
            "grid_template_columns": null,
            "flex": null,
            "_model_name": "LayoutModel",
            "justify_items": null,
            "grid_row": null,
            "max_height": null,
            "align_content": null,
            "visibility": null,
            "overflow": null,
            "height": null,
            "min_height": null,
            "padding": null,
            "grid_auto_rows": null,
            "grid_gap": null,
            "overflow_y": null,
            "max_width": null,
            "order": null,
            "_view_module_version": "1.2.0",
            "align_self": null,
            "grid_template_areas": null,
            "object_position": null,
            "object_fit": null,
            "grid_auto_columns": null,
            "margin": null,
            "display": null,
            "left": null
          }
        }
      }
    },
    "colab": {
      "name": "convolution-intro.ipynb",
      "provenance": []
    }
  },
  "cells": [
    {
      "cell_type": "code",
      "metadata": {
        "id": "jCIPPxARchYO"
      },
      "source": [
        "%matplotlib inline\n",
        "import math,sys,os,numpy as np\n",
        "from numpy.linalg import norm\n",
        "from PIL import Image\n",
        "from matplotlib import pyplot as plt, rcParams, rc\n",
        "from scipy.ndimage import imread\n",
        "from skimage.measure import block_reduce\n",
        "import cPickle as pickle\n",
        "from scipy.ndimage.filters import correlate, convolve\n",
        "from ipywidgets import interact, interactive, fixed\n",
        "from ipywidgets.widgets import *\n",
        "rc('animation', html='html5')\n",
        "rcParams['figure.figsize'] = 3, 6\n",
        "%precision 4\n",
        "np.set_printoptions(precision=4, linewidth=100)"
      ],
      "execution_count": 2,
      "outputs": []
    },
    {
      "cell_type": "code",
      "metadata": {
        "id": "tSbF_iGtchYZ",
        "outputId": "9ad944ce-0818-405d-cc57-de32dad61fa9",
        "colab": {
          "base_uri": "https://localhost:8080/"
        }
      },
      "source": [
        "\"\"\"\n",
        "from tensorflow.examples.tutorials.mnist import input_data\n",
        "mnist = input_data.read_data_sets(\"MNIST_data/\")\n",
        "images, labels = mnist.train.images, mnist.train.labels\n",
        "images = images.reshape((55000,28,28))\n",
        "np.savez_compressed(\"MNIST_data/train\", images=images, labels=labels)\n",
        "\"\"\"\n",
        "1"
      ],
      "execution_count": 3,
      "outputs": [
        {
          "output_type": "execute_result",
          "data": {
            "text/plain": [
              "1"
            ]
          },
          "metadata": {
            "tags": []
          },
          "execution_count": 3
        }
      ]
    },
    {
      "cell_type": "code",
      "metadata": {
        "id": "MS-J3PQ8eurT"
      },
      "source": [
        "def plots(ims, interp=False, titles=None):\n",
        "    ims=np.array(ims)\n",
        "    mn,mx=ims.min(),ims.max()\n",
        "    f = plt.figure(figsize=(12,24))\n",
        "    for i in range(len(ims)):\n",
        "        sp=f.add_subplot(1, len(ims), i+1)\n",
        "        if not titles is None: sp.set_title(titles[i], fontsize=18)\n",
        "        plt.imshow(ims[i], interpolation=None if interp else 'none', vmin=mn,vmax=mx)\n",
        "\n",
        "def plot(im, interp=False):\n",
        "    f = plt.figure(figsize=(3,6), frameon=True)\n",
        "    plt.imshow(im, interpolation=None if interp else 'none')\n",
        "\n",
        "plt.gray()\n",
        "plt.close()"
      ],
      "execution_count": 4,
      "outputs": []
    },
    {
      "cell_type": "code",
      "metadata": {
        "id": "Q9RTog_Tcuc-"
      },
      "source": [
        "from tensorflow.keras.datasets import mnist\n",
        "images, labels = mnist.load_data()\n",
        "(X_train, y_train), (X_test, y_test) = mnist.load_data()\n"
      ],
      "execution_count": 10,
      "outputs": []
    },
    {
      "cell_type": "code",
      "metadata": {
        "id": "0TsuYwNGsdA2"
      },
      "source": [
        "images_train = X_train\n",
        "labels_train = y_train\n",
        "images_test = X_test\n",
        "labels_test = y_test"
      ],
      "execution_count": 11,
      "outputs": []
    },
    {
      "cell_type": "code",
      "metadata": {
        "id": "1aT4CVsKshn0",
        "outputId": "c962ea9e-2eb1-4580-cc36-06d49fe2bee7",
        "colab": {
          "base_uri": "https://localhost:8080/"
        }
      },
      "source": [
        "print(images_train.shape)\n",
        "print(labels_train.shape)\n",
        "print(images_test.shape)\n",
        "print(labels_test.shape)"
      ],
      "execution_count": 12,
      "outputs": [
        {
          "output_type": "stream",
          "text": [
            "(60000, 28, 28)\n",
            "(60000,)\n",
            "(10000, 28, 28)\n",
            "(10000,)\n"
          ],
          "name": "stdout"
        }
      ]
    },
    {
      "cell_type": "code",
      "metadata": {
        "id": "RfEMWW6Msktx"
      },
      "source": [
        "images=images_train\n",
        "labels=labels_train.astype(int)"
      ],
      "execution_count": 13,
      "outputs": []
    },
    {
      "cell_type": "code",
      "metadata": {
        "id": "8OMId-X8chZQ",
        "outputId": "d45bb05b-98e3-4b78-bce7-400577b57876",
        "colab": {
          "base_uri": "https://localhost:8080/",
          "height": 231
        }
      },
      "source": [
        "# images=images[0]\n",
        "# labels=labels[0]\n"
      ],
      "execution_count": 8,
      "outputs": [
        {
          "output_type": "error",
          "ename": "IndexError",
          "evalue": "ignored",
          "traceback": [
            "\u001b[0;31m\u001b[0m",
            "\u001b[0;31mIndexError\u001b[0mTraceback (most recent call last)",
            "\u001b[0;32m<ipython-input-8-aa01b3cc7a8e>\u001b[0m in \u001b[0;36m<module>\u001b[0;34m()\u001b[0m\n\u001b[1;32m      1\u001b[0m \u001b[0mimages\u001b[0m\u001b[0;34m=\u001b[0m\u001b[0mimages\u001b[0m\u001b[0;34m[\u001b[0m\u001b[0;36m0\u001b[0m\u001b[0;34m]\u001b[0m\u001b[0;34m\u001b[0m\u001b[0m\n\u001b[0;32m----> 2\u001b[0;31m \u001b[0mlabels\u001b[0m\u001b[0;34m=\u001b[0m\u001b[0mlabels\u001b[0m\u001b[0;34m[\u001b[0m\u001b[0;36m0\u001b[0m\u001b[0;34m]\u001b[0m\u001b[0;34m\u001b[0m\u001b[0m\n\u001b[0m\u001b[1;32m      3\u001b[0m \u001b[0mn\u001b[0m\u001b[0;34m=\u001b[0m\u001b[0mlen\u001b[0m\u001b[0;34m(\u001b[0m\u001b[0mimages\u001b[0m\u001b[0;34m)\u001b[0m\u001b[0;34m\u001b[0m\u001b[0m\n\u001b[1;32m      4\u001b[0m \u001b[0;32mprint\u001b[0m\u001b[0;34m(\u001b[0m\u001b[0mimages\u001b[0m\u001b[0;34m.\u001b[0m\u001b[0mshape\u001b[0m\u001b[0;34m)\u001b[0m\u001b[0;34m\u001b[0m\u001b[0m\n\u001b[1;32m      5\u001b[0m \u001b[0;32mprint\u001b[0m\u001b[0;34m(\u001b[0m\u001b[0mlabels\u001b[0m\u001b[0;34m.\u001b[0m\u001b[0mshape\u001b[0m\u001b[0;34m)\u001b[0m\u001b[0;34m\u001b[0m\u001b[0m\n",
            "\u001b[0;31mIndexError\u001b[0m: invalid index to scalar variable."
          ]
        }
      ]
    },
    {
      "cell_type": "code",
      "metadata": {
        "id": "TLNW3H5bsoHC",
        "outputId": "b981a947-c1fa-4b4d-8146-a47ea4bdcfd9",
        "colab": {
          "base_uri": "https://localhost:8080/"
        }
      },
      "source": [
        "n=len(images)\n",
        "print(images.shape)\n",
        "print(labels.shape)"
      ],
      "execution_count": 14,
      "outputs": [
        {
          "output_type": "stream",
          "text": [
            "(60000, 28, 28)\n",
            "(60000,)\n"
          ],
          "name": "stdout"
        }
      ]
    },
    {
      "cell_type": "code",
      "metadata": {
        "id": "Pm4_0F0XchZX",
        "outputId": "c639ac36-52c6-4b28-f687-068276d162df",
        "colab": {
          "base_uri": "https://localhost:8080/",
          "height": 219
        }
      },
      "source": [
        "plot(images[0])"
      ],
      "execution_count": 15,
      "outputs": [
        {
          "output_type": "display_data",
          "data": {
            "image/png": "[encoded data removed]",
            "text/plain": [
              "<Figure size 216x432 with 1 Axes>"
            ]
          },
          "metadata": {
            "tags": [],
            "needs_background": "light"
          }
        }
      ]
    },
    {
      "cell_type": "code",
      "metadata": {
        "id": "gOOrlYpIchZd",
        "outputId": "70c91784-fcc7-4817-eb8b-51b95875961b",
        "colab": {
          "base_uri": "https://localhost:8080/"
        }
      },
      "source": [
        "labels[0]"
      ],
      "execution_count": 16,
      "outputs": [
        {
          "output_type": "execute_result",
          "data": {
            "text/plain": [
              "5"
            ]
          },
          "metadata": {
            "tags": []
          },
          "execution_count": 16
        }
      ]
    },
    {
      "cell_type": "code",
      "metadata": {
        "id": "gFI0a28RchZm",
        "outputId": "2445bfcc-ea68-436a-cd1c-380568c53fbb",
        "colab": {
          "base_uri": "https://localhost:8080/",
          "height": 183
        }
      },
      "source": [
        "plots(images[:5], titles=labels[:5])"
      ],
      "execution_count": 17,
      "outputs": [
        {
          "output_type": "display_data",
          "data": {
            "image/png": "[encoded data removed]",
            "text/plain": [
              "<Figure size 864x1728 with 5 Axes>"
            ]
          },
          "metadata": {
            "tags": [],
            "needs_background": "light"
          }
        }
      ]
    },
    {
      "cell_type": "code",
      "metadata": {
        "id": "Sem3ovE2chZu",
        "outputId": "3ed668c8-67e9-46d7-f1f9-110b6082dfa0",
        "colab": {
          "base_uri": "https://localhost:8080/",
          "height": 219
        }
      },
      "source": [
        "top=[[-1,-1,-1],\n",
        "     [ 1, 1, 1],\n",
        "     [ 0, 0, 0]]\n",
        "\n",
        "plot(top)"
      ],
      "execution_count": 18,
      "outputs": [
        {
          "output_type": "display_data",
          "data": {
            "image/png": "[encoded data removed]",
            "text/plain": [
              "<Figure size 216x432 with 1 Axes>"
            ]
          },
          "metadata": {
            "tags": [],
            "needs_background": "light"
          }
        }
      ]
    },
    {
      "cell_type": "code",
      "metadata": {
        "id": "VSX6b5AschZ1",
        "outputId": "a0c0caec-759b-425e-df9e-b3783df88385",
        "colab": {
          "base_uri": "https://localhost:8080/",
          "height": 347,
          "referenced_widgets": [
            "741f78445aad4c76a0ac687ae8a9d596",
            "46ccd0944ce34fd4a8e77dcba2c6ce3c",
            "54e3af435ccc46b1be28f00a53916ceb",
            "9ae386f3f5cf43cbb3ca65981adb10a9",
            "77a04043e7f84730b18c59e57526629d",
            "50402b9b0b9347e78aed419f07211397",
            "ddacec9dbccf4ae18a72306cc418e2f6",
            "568a860b21964aca98895e42a0256eeb",
            "80bfe14786054be0ba57cd236415f2d0",
            "037eba4bb04e4b8a9cfd2d1888ae857d",
            "ba6351ff9cd74abeb88bfb30efc02ae7",
            "1850cdf3a5ac42fa8fa01d0cf049d0c5",
            "9297b36a6b2e467b8f78c503acb9aa6a",
            "e1b3dd6ebb0441cb8ba9c9cbae8bc5eb",
            "4342700679634d5e80670963a9bc9c01",
            "6bfa383147e34144938c261ab64620a9"
          ]
        }
      },
      "source": [
        "r=(0,28)\n",
        "def zoomim(x1=0,x2=28,y1=0,y2=28):\n",
        "    plot(images[0,y1:y2,x1:x2])\n",
        "w=interactive(zoomim, x1=r,x2=r,y1=r,y2=r)\n",
        "w"
      ],
      "execution_count": 19,
      "outputs": [
        {
          "output_type": "display_data",
          "data": {
            "application/vnd.jupyter.widget-view+json": {
              "model_id": "741f78445aad4c76a0ac687ae8a9d596",
              "version_minor": 0,
              "version_major": 2
            },
            "text/plain": [
              "aW50ZXJhY3RpdmUoY2hpbGRyZW49KEludFNsaWRlcih2YWx1ZT0wLCBkZXNjcmlwdGlvbj11J3gxJywgbWF4PTI4KSwgSW50U2xpZGVyKHZhbHVlPTI4LCBkZXNjcmlwdGlvbj11J3gyJywgbWHigKY=\n"
            ]
          },
          "metadata": {
            "tags": []
          }
        }
      ]
    },
    {
      "cell_type": "code",
      "metadata": {
        "id": "J19LXmmcchZ7",
        "outputId": "e967ccca-b4bc-4115-fd89-bfb48c511f07",
        "colab": {
          "base_uri": "https://localhost:8080/"
        }
      },
      "source": [
        "k=w.kwargs\n",
        "dims = np.index_exp[k['y1']:k['y2']:1,k['x1']:k['x2']]\n",
        "images[0][dims]"
      ],
      "execution_count": 20,
      "outputs": [
        {
          "output_type": "execute_result",
          "data": {
            "text/plain": [
              "array([[  0,   0,   0,   0,   0,   0,   0,   0,   0,   0,   0,   0,   0,   0,   0,   0,   0,   0,\n",
              "          0,   0,   0,   0,   0,   0,   0,   0,   0,   0],\n",
              "       [  0,   0,   0,   0,   0,   0,   0,   0,   0,   0,   0,   0,   0,   0,   0,   0,   0,   0,\n",
              "          0,   0,   0,   0,   0,   0,   0,   0,   0,   0],\n",
              "       [  0,   0,   0,   0,   0,   0,   0,   0,   0,   0,   0,   0,   0,   0,   0,   0,   0,   0,\n",
              "          0,   0,   0,   0,   0,   0,   0,   0,   0,   0],\n",
              "       [  0,   0,   0,   0,   0,   0,   0,   0,   0,   0,   0,   0,   0,   0,   0,   0,   0,   0,\n",
              "          0,   0,   0,   0,   0,   0,   0,   0,   0,   0],\n",
              "       [  0,   0,   0,   0,   0,   0,   0,   0,   0,   0,   0,   0,   0,   0,   0,   0,   0,   0,\n",
              "          0,   0,   0,   0,   0,   0,   0,   0,   0,   0],\n",
              "       [  0,   0,   0,   0,   0,   0,   0,   0,   0,   0,   0,   0,   3,  18,  18,  18, 126, 136,\n",
              "        175,  26, 166, 255, 247, 127,   0,   0,   0,   0],\n",
              "       [  0,   0,   0,   0,   0,   0,   0,   0,  30,  36,  94, 154, 170, 253, 253, 253, 253, 253,\n",
              "        225, 172, 253, 242, 195,  64,   0,   0,   0,   0],\n",
              "       [  0,   0,   0,   0,   0,   0,   0,  49, 238, 253, 253, 253, 253, 253, 253, 253, 253, 251,\n",
              "         93,  82,  82,  56,  39,   0,   0,   0,   0,   0],\n",
              "       [  0,   0,   0,   0,   0,   0,   0,  18, 219, 253, 253, 253, 253, 253, 198, 182, 247, 241,\n",
              "          0,   0,   0,   0,   0,   0,   0,   0,   0,   0],\n",
              "       [  0,   0,   0,   0,   0,   0,   0,   0,  80, 156, 107, 253, 253, 205,  11,   0,  43, 154,\n",
              "          0,   0,   0,   0,   0,   0,   0,   0,   0,   0],\n",
              "       [  0,   0,   0,   0,   0,   0,   0,   0,   0,  14,   1, 154, 253,  90,   0,   0,   0,   0,\n",
              "          0,   0,   0,   0,   0,   0,   0,   0,   0,   0],\n",
              "       [  0,   0,   0,   0,   0,   0,   0,   0,   0,   0,   0, 139, 253, 190,   2,   0,   0,   0,\n",
              "          0,   0,   0,   0,   0,   0,   0,   0,   0,   0],\n",
              "       [  0,   0,   0,   0,   0,   0,   0,   0,   0,   0,   0,  11, 190, 253,  70,   0,   0,   0,\n",
              "          0,   0,   0,   0,   0,   0,   0,   0,   0,   0],\n",
              "       [  0,   0,   0,   0,   0,   0,   0,   0,   0,   0,   0,   0,  35, 241, 225, 160, 108,   1,\n",
              "          0,   0,   0,   0,   0,   0,   0,   0,   0,   0],\n",
              "       [  0,   0,   0,   0,   0,   0,   0,   0,   0,   0,   0,   0,   0,  81, 240, 253, 253, 119,\n",
              "         25,   0,   0,   0,   0,   0,   0,   0,   0,   0],\n",
              "       [  0,   0,   0,   0,   0,   0,   0,   0,   0,   0,   0,   0,   0,   0,  45, 186, 253, 253,\n",
              "        150,  27,   0,   0,   0,   0,   0,   0,   0,   0],\n",
              "       [  0,   0,   0,   0,   0,   0,   0,   0,   0,   0,   0,   0,   0,   0,   0,  16,  93, 252,\n",
              "        253, 187,   0,   0,   0,   0,   0,   0,   0,   0],\n",
              "       [  0,   0,   0,   0,   0,   0,   0,   0,   0,   0,   0,   0,   0,   0,   0,   0,   0, 249,\n",
              "        253, 249,  64,   0,   0,   0,   0,   0,   0,   0],\n",
              "       [  0,   0,   0,   0,   0,   0,   0,   0,   0,   0,   0,   0,   0,   0,  46, 130, 183, 253,\n",
              "        253, 207,   2,   0,   0,   0,   0,   0,   0,   0],\n",
              "       [  0,   0,   0,   0,   0,   0,   0,   0,   0,   0,   0,   0,  39, 148, 229, 253, 253, 253,\n",
              "        250, 182,   0,   0,   0,   0,   0,   0,   0,   0],\n",
              "       [  0,   0,   0,   0,   0,   0,   0,   0,   0,   0,  24, 114, 221, 253, 253, 253, 253, 201,\n",
              "         78,   0,   0,   0,   0,   0,   0,   0,   0,   0],\n",
              "       [  0,   0,   0,   0,   0,   0,   0,   0,  23,  66, 213, 253, 253, 253, 253, 198,  81,   2,\n",
              "          0,   0,   0,   0,   0,   0,   0,   0,   0,   0],\n",
              "       [  0,   0,   0,   0,   0,   0,  18, 171, 219, 253, 253, 253, 253, 195,  80,   9,   0,   0,\n",
              "          0,   0,   0,   0,   0,   0,   0,   0,   0,   0],\n",
              "       [  0,   0,   0,   0,  55, 172, 226, 253, 253, 253, 253, 244, 133,  11,   0,   0,   0,   0,\n",
              "          0,   0,   0,   0,   0,   0,   0,   0,   0,   0],\n",
              "       [  0,   0,   0,   0, 136, 253, 253, 253, 212, 135, 132,  16,   0,   0,   0,   0,   0,   0,\n",
              "          0,   0,   0,   0,   0,   0,   0,   0,   0,   0],\n",
              "       [  0,   0,   0,   0,   0,   0,   0,   0,   0,   0,   0,   0,   0,   0,   0,   0,   0,   0,\n",
              "          0,   0,   0,   0,   0,   0,   0,   0,   0,   0],\n",
              "       [  0,   0,   0,   0,   0,   0,   0,   0,   0,   0,   0,   0,   0,   0,   0,   0,   0,   0,\n",
              "          0,   0,   0,   0,   0,   0,   0,   0,   0,   0],\n",
              "       [  0,   0,   0,   0,   0,   0,   0,   0,   0,   0,   0,   0,   0,   0,   0,   0,   0,   0,\n",
              "          0,   0,   0,   0,   0,   0,   0,   0,   0,   0]], dtype=uint8)"
            ]
          },
          "metadata": {
            "tags": []
          },
          "execution_count": 20
        }
      ]
    },
    {
      "cell_type": "code",
      "metadata": {
        "id": "E35FQNkxchaB"
      },
      "source": [
        "corrtop = correlate(images[0], top)"
      ],
      "execution_count": 21,
      "outputs": []
    },
    {
      "cell_type": "code",
      "metadata": {
        "scrolled": true,
        "id": "LAUjWMnfchaI",
        "outputId": "2dbfe242-49fc-48dd-c9ea-66b78ba07bd1",
        "colab": {
          "base_uri": "https://localhost:8080/"
        }
      },
      "source": [
        "corrtop[dims]"
      ],
      "execution_count": 22,
      "outputs": [
        {
          "output_type": "execute_result",
          "data": {
            "text/plain": [
              "array([[  0,   0,   0,   0,   0,   0,   0,   0,   0,   0,   0,   0,   0,   0,   0,   0,   0,   0,\n",
              "          0,   0,   0,   0,   0,   0,   0,   0,   0,   0],\n",
              "       [  0,   0,   0,   0,   0,   0,   0,   0,   0,   0,   0,   0,   0,   0,   0,   0,   0,   0,\n",
              "          0,   0,   0,   0,   0,   0,   0,   0,   0,   0],\n",
              "       [  0,   0,   0,   0,   0,   0,   0,   0,   0,   0,   0,   0,   0,   0,   0,   0,   0,   0,\n",
              "          0,   0,   0,   0,   0,   0,   0,   0,   0,   0],\n",
              "       [  0,   0,   0,   0,   0,   0,   0,   0,   0,   0,   0,   0,   0,   0,   0,   0,   0,   0,\n",
              "          0,   0,   0,   0,   0,   0,   0,   0,   0,   0],\n",
              "       [  0,   0,   0,   0,   0,   0,   0,   0,   0,   0,   0,   0,   0,   0,   0,   0,   0,   0,\n",
              "          0,   0,   0,   0,   0,   0,   0,   0,   0,   0],\n",
              "       [  0,   0,   0,   0,   0,   0,   0,   0,   0,   0,   0,   3,  21,  39,  54, 162,  24, 181,\n",
              "         81, 111, 191, 156, 117, 118, 127,   0,   0,   0],\n",
              "       [  0,   0,   0,   0,   0,   0,   0,  30,  66, 160,  28, 159,  44, 125, 193,  85, 223,  38,\n",
              "         57,  27, 220,  22, 128, 141, 193,   0,   0,   0],\n",
              "       [  0,   0,   0,   0,   0,   0,  49,   1, 218,  72, 219,  85, 182,  83,   0,   0, 254, 122,\n",
              "         32, 119,  65, 255, 106,  36, 192,   0,   0,   0],\n",
              "       [  0,   0,   0,   0,   0,   0, 225, 206, 206, 237,   0,   0,   0, 201, 130, 124, 169, 147,\n",
              "         71, 255,  36,  79, 161, 217,   0,   0,   0,   0],\n",
              "       [  0,   0,   0,   0,   0,   0, 238,  99,   2, 130,  13, 110, 208,  21,  95, 195,  39, 221,\n",
              "        169,   0,   0,   0,   0,   0,   0,   0,   0,   0],\n",
              "       [  0,   0,   0,   0,   0,   0,   0, 176,  34, 184, 165,  51,  42, 130, 130, 202,  59,  59,\n",
              "        102,   0,   0,   0,   0,   0,   0,   0,   0,   0],\n",
              "       [  0,   0,   0,   0,   0,   0,   0,   0, 242, 241, 226, 240,  85, 102, 102,   2,   0,   0,\n",
              "          0,   0,   0,   0,   0,   0,   0,   0,   0,   0],\n",
              "       [  0,   0,   0,   0,   0,   0,   0,   0,   0,   0, 128,  65, 128,  68, 131,  68,   0,   0,\n",
              "          0,   0,   0,   0,   0,   0,   0,   0,   0,   0],\n",
              "       [  0,   0,   0,   0,   0,   0,   0,   0,   0,   0, 245,  90,  78, 244,  47, 167,  13, 109,\n",
              "          1,   0,   0,   0,   0,   0,   0,   0,   0,   0],\n",
              "       [  0,   0,   0,   0,   0,   0,   0,   0,   0,   0,   0, 221,  61,  76, 204, 253, 100,  32,\n",
              "        143,  25,   0,   0,   0,   0,   0,   0,   0,   0],\n",
              "       [  0,   0,   0,   0,   0,   0,   0,   0,   0,   0,   0,   0, 175, 236, 169, 250,  67,   3,\n",
              "         30, 152,  27,   0,   0,   0,   0,   0,   0,   0],\n",
              "       [  0,   0,   0,   0,   0,   0,   0,   0,   0,   0,   0,   0,   0, 211,  41, 137, 181, 198,\n",
              "          6,   7, 160,   0,   0,   0,   0,   0,   0,   0],\n",
              "       [  0,   0,   0,   0,   0,   0,   0,   0,   0,   0,   0,   0,   0,   0, 240, 147, 144, 160,\n",
              "         59, 126, 126,  64,   0,   0,   0,   0,   0,   0],\n",
              "       [  0,   0,   0,   0,   0,   0,   0,   0,   0,   0,   0,   0,   0,  46, 176, 103,  61, 187,\n",
              "        218, 152, 152, 194,   0,   0,   0,   0,   0,   0],\n",
              "       [  0,   0,   0,   0,   0,   0,   0,   0,   0,   0,   0,  39, 187, 114, 198, 120, 193,  67,\n",
              "        228, 226, 229, 254,   0,   0,   0,   0,   0,   0],\n",
              "       [  0,   0,   0,   0,   0,   0,   0,   0,   0,  24, 138,  64, 145,  55, 129,  24, 204,  32,\n",
              "        106, 158,  74,   0,   0,   0,   0,   0,   0,   0],\n",
              "       [  0,   0,   0,   0,   0,   0,   0,  23,  89,  22, 138, 104, 171,  32, 201,  29,  86,  63,\n",
              "        235, 178,   0,   0,   0,   0,   0,   0,   0,   0],\n",
              "       [  0,   0,   0,   0,   0,  18, 189, 129,  42, 167, 227,  40, 198,  25,  92,  69, 240, 173,\n",
              "        254,   0,   0,   0,   0,   0,   0,   0,   0,   0],\n",
              "       [  0,   0,   0,  55, 227, 179, 206,  68, 116,  34, 247, 127, 199, 128, 239, 167, 247,   0,\n",
              "          0,   0,   0,   0,   0,   0,   0,   0,   0,   0],\n",
              "       [  0,   0,   0,  81, 162, 189, 108, 242,  97, 232,  45,  30, 140, 112, 245,   0,   0,   0,\n",
              "          0,   0,   0,   0,   0,   0,   0,   0,   0,   0],\n",
              "       [  0,   0,   0, 120, 123, 126,   9,  50, 168,  33, 229, 108, 240,   0,   0,   0,   0,   0,\n",
              "          0,   0,   0,   0,   0,   0,   0,   0,   0,   0],\n",
              "       [  0,   0,   0,   0,   0,   0,   0,   0,   0,   0,   0,   0,   0,   0,   0,   0,   0,   0,\n",
              "          0,   0,   0,   0,   0,   0,   0,   0,   0,   0],\n",
              "       [  0,   0,   0,   0,   0,   0,   0,   0,   0,   0,   0,   0,   0,   0,   0,   0,   0,   0,\n",
              "          0,   0,   0,   0,   0,   0,   0,   0,   0,   0]], dtype=uint8)"
            ]
          },
          "metadata": {
            "tags": []
          },
          "execution_count": 22
        }
      ]
    },
    {
      "cell_type": "code",
      "metadata": {
        "id": "CHafuyJTchaP",
        "outputId": "d382c143-6053-45fc-b48f-08f12a187cf8",
        "colab": {
          "base_uri": "https://localhost:8080/",
          "height": 219
        }
      },
      "source": [
        "plot(corrtop[dims])"
      ],
      "execution_count": 23,
      "outputs": [
        {
          "output_type": "display_data",
          "data": {
            "image/png": "[encoded data removed]",
            "text/plain": [
              "<Figure size 216x432 with 1 Axes>"
            ]
          },
          "metadata": {
            "tags": [],
            "needs_background": "light"
          }
        }
      ]
    },
    {
      "cell_type": "code",
      "metadata": {
        "id": "oQ55VtotchaU",
        "outputId": "1d206afe-e698-4230-fa86-984b9840c102",
        "colab": {
          "base_uri": "https://localhost:8080/",
          "height": 219
        }
      },
      "source": [
        "plot(corrtop)"
      ],
      "execution_count": 24,
      "outputs": [
        {
          "output_type": "display_data",
          "data": {
            "image/png": "[encoded data removed]",
            "text/plain": [
              "<Figure size 216x432 with 1 Axes>"
            ]
          },
          "metadata": {
            "tags": [],
            "needs_background": "light"
          }
        }
      ]
    },
    {
      "cell_type": "code",
      "metadata": {
        "id": "UubVGde2chac",
        "outputId": "95843559-bbcf-4912-ea28-8392a5927627",
        "colab": {
          "base_uri": "https://localhost:8080/"
        }
      },
      "source": [
        "np.rot90(top, 1)"
      ],
      "execution_count": 25,
      "outputs": [
        {
          "output_type": "execute_result",
          "data": {
            "text/plain": [
              "array([[-1,  1,  0],\n",
              "       [-1,  1,  0],\n",
              "       [-1,  1,  0]])"
            ]
          },
          "metadata": {
            "tags": []
          },
          "execution_count": 25
        }
      ]
    },
    {
      "cell_type": "code",
      "metadata": {
        "scrolled": true,
        "id": "oznMO0kJchai",
        "outputId": "8a435738-5ba5-4ee9-97b3-a2e85d5e0dac",
        "colab": {
          "base_uri": "https://localhost:8080/",
          "height": 236
        }
      },
      "source": [
        "convtop = convolve(images[0], np.rot90(top,2))\n",
        "plot(convtop)\n",
        "np.allclose(convtop, corrtop)"
      ],
      "execution_count": 26,
      "outputs": [
        {
          "output_type": "execute_result",
          "data": {
            "text/plain": [
              "True"
            ]
          },
          "metadata": {
            "tags": []
          },
          "execution_count": 26
        },
        {
          "output_type": "display_data",
          "data": {
            "image/png": "[encoded data removed]",
            "text/plain": [
              "<Figure size 216x432 with 1 Axes>"
            ]
          },
          "metadata": {
            "tags": [],
            "needs_background": "light"
          }
        }
      ]
    },
    {
      "cell_type": "code",
      "metadata": {
        "id": "KJRzLfE1chap",
        "outputId": "90774b3e-f8ce-4b28-8ec6-32406a43e7be",
        "colab": {
          "base_uri": "https://localhost:8080/",
          "height": 197
        }
      },
      "source": [
        "straights=[np.rot90(top,i) for i in range(4)]\n",
        "plots(straights)"
      ],
      "execution_count": 27,
      "outputs": [
        {
          "output_type": "display_data",
          "data": {
            "image/png": "[encoded data removed]",
            "text/plain": [
              "<Figure size 864x1728 with 4 Axes>"
            ]
          },
          "metadata": {
            "tags": [],
            "needs_background": "light"
          }
        }
      ]
    },
    {
      "cell_type": "code",
      "metadata": {
        "id": "xeKOWm4lchau",
        "outputId": "947c3e7b-56e1-4996-889d-499d05251c94",
        "colab": {
          "base_uri": "https://localhost:8080/",
          "height": 197
        }
      },
      "source": [
        "br=[[ 0, 0, 1],\n",
        "    [ 0, 1,-1.5],\n",
        "    [ 1,-1.5, 0]]\n",
        "\n",
        "diags = [np.rot90(br,i) for i in range(4)]\n",
        "plots(diags)"
      ],
      "execution_count": 28,
      "outputs": [
        {
          "output_type": "display_data",
          "data": {
            "image/png": "[encoded data removed]",
            "text/plain": [
              "<Figure size 864x1728 with 4 Axes>"
            ]
          },
          "metadata": {
            "tags": [],
            "needs_background": "light"
          }
        }
      ]
    },
    {
      "cell_type": "code",
      "metadata": {
        "id": "KNX__tYmcha0",
        "outputId": "e2b1dd23-6915-4dc8-ed5d-f62356c94076",
        "colab": {
          "base_uri": "https://localhost:8080/",
          "height": 123
        }
      },
      "source": [
        "rots = straights + diags\n",
        "corrs = [correlate(images[0], rot) for rot in rots]\n",
        "plots(corrs)"
      ],
      "execution_count": 29,
      "outputs": [
        {
          "output_type": "display_data",
          "data": {
            "image/png": "[encoded data removed]",
            "text/plain": [
              "<Figure size 864x1728 with 8 Axes>"
            ]
          },
          "metadata": {
            "tags": [],
            "needs_background": "light"
          }
        }
      ]
    },
    {
      "cell_type": "code",
      "metadata": {
        "id": "qcT9k8THcha7",
        "outputId": "8a129bf5-e10b-421d-a6d3-564d9e709562",
        "colab": {
          "base_uri": "https://localhost:8080/",
          "height": 123
        }
      },
      "source": [
        "def pool(im): return block_reduce(im, (7,7), np.max)\n",
        "\n",
        "plots([pool(im) for im in corrs])"
      ],
      "execution_count": 30,
      "outputs": [
        {
          "output_type": "display_data",
          "data": {
            "image/png": "[encoded data removed]",
            "text/plain": [
              "<Figure size 864x1728 with 8 Axes>"
            ]
          },
          "metadata": {
            "tags": [],
            "needs_background": "light"
          }
        }
      ]
    },
    {
      "cell_type": "code",
      "metadata": {
        "id": "P994gCkwchbA"
      },
      "source": [
        "eights=[images[i] for i in xrange(n) if labels[i]==8]\n",
        "ones=[images[i] for i in xrange(n) if labels[i]==1]"
      ],
      "execution_count": 31,
      "outputs": []
    },
    {
      "cell_type": "code",
      "metadata": {
        "id": "sGbSS35TchbI",
        "outputId": "99d9b631-4b19-47c3-8756-cc5f2796905a",
        "colab": {
          "base_uri": "https://localhost:8080/",
          "height": 317
        }
      },
      "source": [
        "plots(eights[:5])\n",
        "plots(ones[:5])"
      ],
      "execution_count": 32,
      "outputs": [
        {
          "output_type": "display_data",
          "data": {
            "image/png": "[encoded data removed]",
            "text/plain": [
              "<Figure size 864x1728 with 5 Axes>"
            ]
          },
          "metadata": {
            "tags": [],
            "needs_background": "light"
          }
        },
        {
          "output_type": "display_data",
          "data": {
            "image/png": "[encoded data removed]",
            "text/plain": [
              "<Figure size 864x1728 with 5 Axes>"
            ]
          },
          "metadata": {
            "tags": [],
            "needs_background": "light"
          }
        }
      ]
    },
    {
      "cell_type": "code",
      "metadata": {
        "id": "lQXJ1oDGchbQ"
      },
      "source": [
        "pool8 = [np.array([pool(correlate(im, rot)) for im in eights]) for rot in rots]"
      ],
      "execution_count": 33,
      "outputs": []
    },
    {
      "cell_type": "code",
      "metadata": {
        "id": "9I23yGfdchbW",
        "outputId": "ebd8cdd9-c40c-46f1-93fa-da8ae2d7ffe7",
        "colab": {
          "base_uri": "https://localhost:8080/"
        }
      },
      "source": [
        "len(pool8), pool8[0].shape"
      ],
      "execution_count": 34,
      "outputs": [
        {
          "output_type": "execute_result",
          "data": {
            "text/plain": [
              "(8, (5851, 4, 4))"
            ]
          },
          "metadata": {
            "tags": []
          },
          "execution_count": 34
        }
      ]
    },
    {
      "cell_type": "code",
      "metadata": {
        "id": "asI4l77wchbe",
        "outputId": "b14c1491-82b5-4961-db8c-d8766476d640",
        "colab": {
          "base_uri": "https://localhost:8080/",
          "height": 167
        }
      },
      "source": [
        "plots(pool8[0][0:5])"
      ],
      "execution_count": 35,
      "outputs": [
        {
          "output_type": "display_data",
          "data": {
            "image/png": "[encoded data removed]",
            "text/plain": [
              "<Figure size 864x1728 with 5 Axes>"
            ]
          },
          "metadata": {
            "tags": [],
            "needs_background": "light"
          }
        }
      ]
    },
    {
      "cell_type": "code",
      "metadata": {
        "id": "Lmk5emYRchbl"
      },
      "source": [
        "def normalize(arr): return (arr-arr.mean())/arr.std()"
      ],
      "execution_count": 36,
      "outputs": []
    },
    {
      "cell_type": "code",
      "metadata": {
        "id": "srz7zfBWchbt"
      },
      "source": [
        "filts8 = np.array([ims.mean(axis=0) for ims in pool8])\n",
        "filts8 = normalize(filts8)"
      ],
      "execution_count": 37,
      "outputs": []
    },
    {
      "cell_type": "code",
      "metadata": {
        "id": "vyM8lN9dchbz",
        "outputId": "97f8c000-226e-4631-aced-3244e2422f6f"
      },
      "source": [
        "plots(filts8)"
      ],
      "execution_count": null,
      "outputs": [
        {
          "output_type": "display_data",
          "data": {
            "image/png": "[encoded data removed]",
            "text/plain": [
              "<matplotlib.figure.Figure at 0x7f0aa754ba50>"
            ]
          },
          "metadata": {
            "tags": []
          }
        }
      ]
    },
    {
      "cell_type": "code",
      "metadata": {
        "id": "SemKXdYMchb5"
      },
      "source": [
        "pool1 = [np.array([pool(correlate(im, rot)) for im in ones]) for rot in rots]\n",
        "filts1 = np.array([ims.mean(axis=0) for ims in pool1])\n",
        "filts1 = normalize(filts1)"
      ],
      "execution_count": null,
      "outputs": []
    },
    {
      "cell_type": "code",
      "metadata": {
        "id": "SeRt3nzdchb9",
        "outputId": "8fcf4f14-b2a4-4711-aa22-93df451b996d"
      },
      "source": [
        "plots(filts1)"
      ],
      "execution_count": null,
      "outputs": [
        {
          "output_type": "display_data",
          "data": {
            "image/png": "[encoded data removed]",
            "text/plain": [
              "<matplotlib.figure.Figure at 0x7f0aa6ef2b50>"
            ]
          },
          "metadata": {
            "tags": []
          }
        }
      ]
    },
    {
      "cell_type": "code",
      "metadata": {
        "id": "9Hx680tNchcC"
      },
      "source": [
        "def pool_corr(im): return np.array([pool(correlate(im, rot)) for rot in rots])"
      ],
      "execution_count": null,
      "outputs": []
    },
    {
      "cell_type": "code",
      "metadata": {
        "id": "73XONk_LchcH",
        "outputId": "0e63054e-20a3-404d-8a88-fdd8f7d950e3"
      },
      "source": [
        "plots(pool_corr(eights[0]))"
      ],
      "execution_count": null,
      "outputs": [
        {
          "output_type": "display_data",
          "data": {
            "image/png": "[encoded data removed]",
            "text/plain": [
              "<matplotlib.figure.Figure at 0x7f0aa77da8d0>"
            ]
          },
          "metadata": {
            "tags": []
          }
        }
      ]
    },
    {
      "cell_type": "code",
      "metadata": {
        "id": "NTa4k4bfchcM"
      },
      "source": [
        "def sse(a,b): return ((a-b)**2).sum()\n",
        "def is8_n2(im): return 1 if sse(pool_corr(im),filts1) > sse(pool_corr(im),filts8) else 0"
      ],
      "execution_count": null,
      "outputs": []
    },
    {
      "cell_type": "code",
      "metadata": {
        "id": "rQ_VUPaHchcP",
        "outputId": "f164c109-ca88-4642-c705-cce1466200c3"
      },
      "source": [
        "sse(pool_corr(eights[0]), filts8), sse(pool_corr(eights[0]), filts1)"
      ],
      "execution_count": null,
      "outputs": [
        {
          "output_type": "execute_result",
          "data": {
            "text/plain": [
              "(126.77776, 181.26105)"
            ]
          },
          "metadata": {
            "tags": []
          },
          "execution_count": 36
        }
      ]
    },
    {
      "cell_type": "code",
      "metadata": {
        "id": "aF3hr6QjchcR",
        "outputId": "06e6d6fc-30b7-42b3-e26e-8d2474ecfd34"
      },
      "source": [
        "[np.array([is8_n2(im) for im in ims]).sum() for ims in [eights,ones]]"
      ],
      "execution_count": null,
      "outputs": [
        {
          "output_type": "execute_result",
          "data": {
            "text/plain": [
              "[5223, 287]"
            ]
          },
          "metadata": {
            "tags": []
          },
          "execution_count": 37
        }
      ]
    },
    {
      "cell_type": "code",
      "metadata": {
        "id": "sYE9kTUdchcT",
        "outputId": "efbf9682-16be-469a-dad7-06ffd1fb20c0"
      },
      "source": [
        "[np.array([(1-is8_n2(im)) for im in ims]).sum() for ims in [eights,ones]]"
      ],
      "execution_count": null,
      "outputs": [
        {
          "output_type": "execute_result",
          "data": {
            "text/plain": [
              "[166, 5892]"
            ]
          },
          "metadata": {
            "tags": []
          },
          "execution_count": 38
        }
      ]
    },
    {
      "cell_type": "code",
      "metadata": {
        "id": "3R0oFadVchcW"
      },
      "source": [
        "def n1(a,b): return (np.fabs(a-b)).sum()\n",
        "def is8_n1(im): return 1 if n1(pool_corr(im),filts1) > n1(pool_corr(im),filts8) else 0"
      ],
      "execution_count": null,
      "outputs": []
    },
    {
      "cell_type": "code",
      "metadata": {
        "id": "PB1fGXDrchca"
      },
      "source": [
        "[np.array([is8_n1(im) for im in ims]).sum() for ims in [eights,ones]]"
      ],
      "execution_count": null,
      "outputs": []
    },
    {
      "cell_type": "code",
      "metadata": {
        "id": "a1jRSpNxchcf"
      },
      "source": [
        "[np.array([(1-is8_n1(im)) for im in ims]).sum() for ims in [eights,ones]]"
      ],
      "execution_count": null,
      "outputs": []
    },
    {
      "cell_type": "code",
      "metadata": {
        "id": "5hMFBk5Rchcj"
      },
      "source": [
        ""
      ],
      "execution_count": null,
      "outputs": []
    }
  ]
}