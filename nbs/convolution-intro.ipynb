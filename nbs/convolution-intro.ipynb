{
  "nbformat": 4,
  "nbformat_minor": 0,
  "metadata": {
    "anaconda-cloud": {},
    "kernelspec": {
      "display_name": "Python [conda root]",
      "language": "python",
      "name": "conda-root-py"
    },
    "language_info": {
      "codemirror_mode": {
        "name": "ipython",
        "version": 3
      },
      "file_extension": ".py",
      "mimetype": "text/x-python",
      "name": "python",
      "nbconvert_exporter": "python",
      "pygments_lexer": "ipython3",
      "version": "3.6.1"
    },
    "nav_menu": {},
    "toc": {
      "navigate_menu": true,
      "number_sections": true,
      "sideBar": true,
      "threshold": 6,
      "toc_cell": false,
      "toc_section_display": "block",
      "toc_window_display": false
    },
    "widgets": {
      "application/vnd.jupyter.widget-state+json": {
        "cb0bf89163344daa85c82389804e7545": {
          "model_module": "@jupyter-widgets/controls",
          "model_name": "VBoxModel",
          "state": {
            "_view_name": "VBoxView",
            "_dom_classes": [
              "widget-interact"
            ],
            "_model_name": "VBoxModel",
            "_view_module": "@jupyter-widgets/controls",
            "_model_module_version": "1.5.0",
            "_view_count": null,
            "_view_module_version": "1.5.0",
            "box_style": "",
            "layout": "IPY_MODEL_c07172962f1d4f4db7251c292f16ce4c",
            "_model_module": "@jupyter-widgets/controls",
            "children": [
              "IPY_MODEL_fcdf9baedf0f4fc3a9ecd9a3f37e6699",
              "IPY_MODEL_57d08494de744d668697696481594caf",
              "IPY_MODEL_809c611f8d914fe7b75aeabf945c9c59",
              "IPY_MODEL_c9f74801f6d74d1b820a6f738ee6550d",
              "IPY_MODEL_f9dc0e6e1e98464ba7ae31aec57163ac"
            ]
          }
        },
        "c07172962f1d4f4db7251c292f16ce4c": {
          "model_module": "@jupyter-widgets/base",
          "model_name": "LayoutModel",
          "state": {
            "_view_name": "LayoutView",
            "grid_template_rows": null,
            "right": null,
            "justify_content": null,
            "_view_module": "@jupyter-widgets/base",
            "overflow": null,
            "_model_module_version": "1.2.0",
            "_view_count": null,
            "flex_flow": null,
            "width": null,
            "min_width": null,
            "border": null,
            "align_items": null,
            "bottom": null,
            "_model_module": "@jupyter-widgets/base",
            "top": null,
            "grid_column": null,
            "overflow_y": null,
            "overflow_x": null,
            "grid_auto_flow": null,
            "grid_area": null,
            "grid_template_columns": null,
            "flex": null,
            "_model_name": "LayoutModel",
            "justify_items": null,
            "grid_row": null,
            "max_height": null,
            "align_content": null,
            "visibility": null,
            "align_self": null,
            "height": null,
            "min_height": null,
            "padding": null,
            "grid_auto_rows": null,
            "grid_gap": null,
            "max_width": null,
            "order": null,
            "_view_module_version": "1.2.0",
            "grid_template_areas": null,
            "object_position": null,
            "object_fit": null,
            "grid_auto_columns": null,
            "margin": null,
            "display": null,
            "left": null
          }
        },
        "fcdf9baedf0f4fc3a9ecd9a3f37e6699": {
          "model_module": "@jupyter-widgets/controls",
          "model_name": "IntSliderModel",
          "state": {
            "_view_name": "IntSliderView",
            "style": "IPY_MODEL_77fb955a615a4edb8d21aee961fba9e4",
            "_dom_classes": [],
            "description": "x1",
            "step": 1,
            "_model_name": "IntSliderModel",
            "orientation": "horizontal",
            "max": 28,
            "_view_module": "@jupyter-widgets/controls",
            "_model_module_version": "1.5.0",
            "value": 0,
            "_view_count": null,
            "disabled": false,
            "_view_module_version": "1.5.0",
            "min": 0,
            "continuous_update": true,
            "readout_format": "d",
            "description_tooltip": null,
            "readout": true,
            "_model_module": "@jupyter-widgets/controls",
            "layout": "IPY_MODEL_959fad4f51494778948265adab0b2142"
          }
        },
        "57d08494de744d668697696481594caf": {
          "model_module": "@jupyter-widgets/controls",
          "model_name": "IntSliderModel",
          "state": {
            "_view_name": "IntSliderView",
            "style": "IPY_MODEL_d2e6f11392d64169816fdd1fc8aa63c9",
            "_dom_classes": [],
            "description": "x2",
            "step": 1,
            "_model_name": "IntSliderModel",
            "orientation": "horizontal",
            "max": 28,
            "_view_module": "@jupyter-widgets/controls",
            "_model_module_version": "1.5.0",
            "value": 28,
            "_view_count": null,
            "disabled": false,
            "_view_module_version": "1.5.0",
            "min": 0,
            "continuous_update": true,
            "readout_format": "d",
            "description_tooltip": null,
            "readout": true,
            "_model_module": "@jupyter-widgets/controls",
            "layout": "IPY_MODEL_5dce35edf087432e9e4ed711a4a11461"
          }
        },
        "809c611f8d914fe7b75aeabf945c9c59": {
          "model_module": "@jupyter-widgets/controls",
          "model_name": "IntSliderModel",
          "state": {
            "_view_name": "IntSliderView",
            "style": "IPY_MODEL_1cf52112eefa47158078d811ad19309e",
            "_dom_classes": [],
            "description": "y1",
            "step": 1,
            "_model_name": "IntSliderModel",
            "orientation": "horizontal",
            "max": 28,
            "_view_module": "@jupyter-widgets/controls",
            "_model_module_version": "1.5.0",
            "value": 0,
            "_view_count": null,
            "disabled": false,
            "_view_module_version": "1.5.0",
            "min": 0,
            "continuous_update": true,
            "readout_format": "d",
            "description_tooltip": null,
            "readout": true,
            "_model_module": "@jupyter-widgets/controls",
            "layout": "IPY_MODEL_3e2de6bad0a34b3aa5c74468ea6c606c"
          }
        },
        "c9f74801f6d74d1b820a6f738ee6550d": {
          "model_module": "@jupyter-widgets/controls",
          "model_name": "IntSliderModel",
          "state": {
            "_view_name": "IntSliderView",
            "style": "IPY_MODEL_ea04285ea2e84642a2ce0e0d3baf1368",
            "_dom_classes": [],
            "description": "y2",
            "step": 1,
            "_model_name": "IntSliderModel",
            "orientation": "horizontal",
            "max": 28,
            "_view_module": "@jupyter-widgets/controls",
            "_model_module_version": "1.5.0",
            "value": 28,
            "_view_count": null,
            "disabled": false,
            "_view_module_version": "1.5.0",
            "min": 0,
            "continuous_update": true,
            "readout_format": "d",
            "description_tooltip": null,
            "readout": true,
            "_model_module": "@jupyter-widgets/controls",
            "layout": "IPY_MODEL_ac86340a2a72492fa19730180ff980d1"
          }
        },
        "f9dc0e6e1e98464ba7ae31aec57163ac": {
          "model_module": "@jupyter-widgets/output",
          "model_name": "OutputModel",
          "state": {
            "_view_name": "OutputView",
            "msg_id": "",
            "_dom_classes": [],
            "_model_name": "OutputModel",
            "outputs": [
              {
                "output_type": "display_data",
                "metadata": {
                  "tags": [],
                  "needs_background": "light"
                },
                "image/png": "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\n",
                "text/plain": "<Figure size 216x432 with 1 Axes>"
              }
            ],
            "_view_module": "@jupyter-widgets/output",
            "_model_module_version": "1.0.0",
            "_view_count": null,
            "_view_module_version": "1.0.0",
            "layout": "IPY_MODEL_30148ba0a0664691b4438a6c1b934142",
            "_model_module": "@jupyter-widgets/output"
          }
        },
        "77fb955a615a4edb8d21aee961fba9e4": {
          "model_module": "@jupyter-widgets/controls",
          "model_name": "SliderStyleModel",
          "state": {
            "_view_name": "StyleView",
            "handle_color": null,
            "_model_name": "SliderStyleModel",
            "description_width": "",
            "_view_module": "@jupyter-widgets/base",
            "_model_module_version": "1.5.0",
            "_view_count": null,
            "_view_module_version": "1.2.0",
            "_model_module": "@jupyter-widgets/controls"
          }
        },
        "959fad4f51494778948265adab0b2142": {
          "model_module": "@jupyter-widgets/base",
          "model_name": "LayoutModel",
          "state": {
            "_view_name": "LayoutView",
            "grid_template_rows": null,
            "right": null,
            "justify_content": null,
            "_view_module": "@jupyter-widgets/base",
            "overflow": null,
            "_model_module_version": "1.2.0",
            "_view_count": null,
            "flex_flow": null,
            "width": null,
            "min_width": null,
            "border": null,
            "align_items": null,
            "bottom": null,
            "_model_module": "@jupyter-widgets/base",
            "top": null,
            "grid_column": null,
            "overflow_y": null,
            "overflow_x": null,
            "grid_auto_flow": null,
            "grid_area": null,
            "grid_template_columns": null,
            "flex": null,
            "_model_name": "LayoutModel",
            "justify_items": null,
            "grid_row": null,
            "max_height": null,
            "align_content": null,
            "visibility": null,
            "align_self": null,
            "height": null,
            "min_height": null,
            "padding": null,
            "grid_auto_rows": null,
            "grid_gap": null,
            "max_width": null,
            "order": null,
            "_view_module_version": "1.2.0",
            "grid_template_areas": null,
            "object_position": null,
            "object_fit": null,
            "grid_auto_columns": null,
            "margin": null,
            "display": null,
            "left": null
          }
        },
        "d2e6f11392d64169816fdd1fc8aa63c9": {
          "model_module": "@jupyter-widgets/controls",
          "model_name": "SliderStyleModel",
          "state": {
            "_view_name": "StyleView",
            "handle_color": null,
            "_model_name": "SliderStyleModel",
            "description_width": "",
            "_view_module": "@jupyter-widgets/base",
            "_model_module_version": "1.5.0",
            "_view_count": null,
            "_view_module_version": "1.2.0",
            "_model_module": "@jupyter-widgets/controls"
          }
        },
        "5dce35edf087432e9e4ed711a4a11461": {
          "model_module": "@jupyter-widgets/base",
          "model_name": "LayoutModel",
          "state": {
            "_view_name": "LayoutView",
            "grid_template_rows": null,
            "right": null,
            "justify_content": null,
            "_view_module": "@jupyter-widgets/base",
            "overflow": null,
            "_model_module_version": "1.2.0",
            "_view_count": null,
            "flex_flow": null,
            "width": null,
            "min_width": null,
            "border": null,
            "align_items": null,
            "bottom": null,
            "_model_module": "@jupyter-widgets/base",
            "top": null,
            "grid_column": null,
            "overflow_y": null,
            "overflow_x": null,
            "grid_auto_flow": null,
            "grid_area": null,
            "grid_template_columns": null,
            "flex": null,
            "_model_name": "LayoutModel",
            "justify_items": null,
            "grid_row": null,
            "max_height": null,
            "align_content": null,
            "visibility": null,
            "align_self": null,
            "height": null,
            "min_height": null,
            "padding": null,
            "grid_auto_rows": null,
            "grid_gap": null,
            "max_width": null,
            "order": null,
            "_view_module_version": "1.2.0",
            "grid_template_areas": null,
            "object_position": null,
            "object_fit": null,
            "grid_auto_columns": null,
            "margin": null,
            "display": null,
            "left": null
          }
        },
        "1cf52112eefa47158078d811ad19309e": {
          "model_module": "@jupyter-widgets/controls",
          "model_name": "SliderStyleModel",
          "state": {
            "_view_name": "StyleView",
            "handle_color": null,
            "_model_name": "SliderStyleModel",
            "description_width": "",
            "_view_module": "@jupyter-widgets/base",
            "_model_module_version": "1.5.0",
            "_view_count": null,
            "_view_module_version": "1.2.0",
            "_model_module": "@jupyter-widgets/controls"
          }
        },
        "3e2de6bad0a34b3aa5c74468ea6c606c": {
          "model_module": "@jupyter-widgets/base",
          "model_name": "LayoutModel",
          "state": {
            "_view_name": "LayoutView",
            "grid_template_rows": null,
            "right": null,
            "justify_content": null,
            "_view_module": "@jupyter-widgets/base",
            "overflow": null,
            "_model_module_version": "1.2.0",
            "_view_count": null,
            "flex_flow": null,
            "width": null,
            "min_width": null,
            "border": null,
            "align_items": null,
            "bottom": null,
            "_model_module": "@jupyter-widgets/base",
            "top": null,
            "grid_column": null,
            "overflow_y": null,
            "overflow_x": null,
            "grid_auto_flow": null,
            "grid_area": null,
            "grid_template_columns": null,
            "flex": null,
            "_model_name": "LayoutModel",
            "justify_items": null,
            "grid_row": null,
            "max_height": null,
            "align_content": null,
            "visibility": null,
            "align_self": null,
            "height": null,
            "min_height": null,
            "padding": null,
            "grid_auto_rows": null,
            "grid_gap": null,
            "max_width": null,
            "order": null,
            "_view_module_version": "1.2.0",
            "grid_template_areas": null,
            "object_position": null,
            "object_fit": null,
            "grid_auto_columns": null,
            "margin": null,
            "display": null,
            "left": null
          }
        },
        "ea04285ea2e84642a2ce0e0d3baf1368": {
          "model_module": "@jupyter-widgets/controls",
          "model_name": "SliderStyleModel",
          "state": {
            "_view_name": "StyleView",
            "handle_color": null,
            "_model_name": "SliderStyleModel",
            "description_width": "",
            "_view_module": "@jupyter-widgets/base",
            "_model_module_version": "1.5.0",
            "_view_count": null,
            "_view_module_version": "1.2.0",
            "_model_module": "@jupyter-widgets/controls"
          }
        },
        "ac86340a2a72492fa19730180ff980d1": {
          "model_module": "@jupyter-widgets/base",
          "model_name": "LayoutModel",
          "state": {
            "_view_name": "LayoutView",
            "grid_template_rows": null,
            "right": null,
            "justify_content": null,
            "_view_module": "@jupyter-widgets/base",
            "overflow": null,
            "_model_module_version": "1.2.0",
            "_view_count": null,
            "flex_flow": null,
            "width": null,
            "min_width": null,
            "border": null,
            "align_items": null,
            "bottom": null,
            "_model_module": "@jupyter-widgets/base",
            "top": null,
            "grid_column": null,
            "overflow_y": null,
            "overflow_x": null,
            "grid_auto_flow": null,
            "grid_area": null,
            "grid_template_columns": null,
            "flex": null,
            "_model_name": "LayoutModel",
            "justify_items": null,
            "grid_row": null,
            "max_height": null,
            "align_content": null,
            "visibility": null,
            "align_self": null,
            "height": null,
            "min_height": null,
            "padding": null,
            "grid_auto_rows": null,
            "grid_gap": null,
            "max_width": null,
            "order": null,
            "_view_module_version": "1.2.0",
            "grid_template_areas": null,
            "object_position": null,
            "object_fit": null,
            "grid_auto_columns": null,
            "margin": null,
            "display": null,
            "left": null
          }
        },
        "30148ba0a0664691b4438a6c1b934142": {
          "model_module": "@jupyter-widgets/base",
          "model_name": "LayoutModel",
          "state": {
            "_view_name": "LayoutView",
            "grid_template_rows": null,
            "right": null,
            "justify_content": null,
            "_view_module": "@jupyter-widgets/base",
            "overflow": null,
            "_model_module_version": "1.2.0",
            "_view_count": null,
            "flex_flow": null,
            "width": null,
            "min_width": null,
            "border": null,
            "align_items": null,
            "bottom": null,
            "_model_module": "@jupyter-widgets/base",
            "top": null,
            "grid_column": null,
            "overflow_y": null,
            "overflow_x": null,
            "grid_auto_flow": null,
            "grid_area": null,
            "grid_template_columns": null,
            "flex": null,
            "_model_name": "LayoutModel",
            "justify_items": null,
            "grid_row": null,
            "max_height": null,
            "align_content": null,
            "visibility": null,
            "align_self": null,
            "height": null,
            "min_height": null,
            "padding": null,
            "grid_auto_rows": null,
            "grid_gap": null,
            "max_width": null,
            "order": null,
            "_view_module_version": "1.2.0",
            "grid_template_areas": null,
            "object_position": null,
            "object_fit": null,
            "grid_auto_columns": null,
            "margin": null,
            "display": null,
            "left": null
          }
        }
      }
    },
    "colab": {
      "name": "convolution-intro.ipynb",
      "provenance": []
    }
  },
  "cells": [
    {
      "cell_type": "markdown",
      "metadata": {
        "id": "hehelQynSkKq"
      },
      "source": [
        "# Intro to Convolutions"
      ]
    },
    {
      "cell_type": "markdown",
      "metadata": {
        "id": "THYRJRNUSkKw"
      },
      "source": [
        "## Set up"
      ]
    },
    {
      "cell_type": "code",
      "metadata": {
        "id": "VYjxygteSkK0"
      },
      "source": [
        "%matplotlib inline\n",
        "import math,sys,os,numpy as np\n",
        "from numpy.linalg import norm\n",
        "from PIL import Image\n",
        "from matplotlib import pyplot as plt, rcParams, rc\n",
        "# from scipy.ndimage import imread\n",
        "from skimage.measure import block_reduce\n",
        "import pickle as pickle\n",
        "from scipy.ndimage.filters import correlate, convolve\n",
        "from ipywidgets import interact, interactive, fixed\n",
        "from ipywidgets.widgets import *\n",
        "rc('animation', html='html5')\n",
        "rcParams['figure.figsize'] = 3, 6\n",
        "%precision 4\n",
        "np.set_printoptions(precision=4, linewidth=100)"
      ],
      "execution_count": 52,
      "outputs": []
    },
    {
      "cell_type": "code",
      "metadata": {
        "id": "eEpXmpO2SkLG"
      },
      "source": [
        "def plots(ims, interp=False, titles=None):\n",
        "    ims=np.array(ims)\n",
        "    mn,mx=ims.min(),ims.max()\n",
        "    f = plt.figure(figsize=(12,24))\n",
        "    for i in range(len(ims)):\n",
        "        sp=f.add_subplot(1, len(ims), i+1)\n",
        "        if not titles is None: sp.set_title(titles[i], fontsize=18)\n",
        "        plt.imshow(ims[i], interpolation=None if interp else 'none', vmin=mn,vmax=mx)\n",
        "\n",
        "def plot(im, interp=False):\n",
        "    f = plt.figure(figsize=(3,6), frameon=True)\n",
        "    # plt.show(im)\n",
        "    plt.imshow(im, interpolation=None if interp else 'none')\n",
        "\n",
        "plt.gray()\n",
        "plt.close()"
      ],
      "execution_count": 53,
      "outputs": []
    },
    {
      "cell_type": "markdown",
      "metadata": {
        "id": "PjinCobzSkLR"
      },
      "source": [
        "## MNIST Data"
      ]
    },
    {
      "cell_type": "code",
      "metadata": {
        "id": "DSI-aZ2tYsf0"
      },
      "source": [
        "from tensorflow.keras.datasets import mnist\n",
        "images,labels = mnist.load_data()\n",
        "mnist = mnist.load_data()"
      ],
      "execution_count": 54,
      "outputs": []
    },
    {
      "cell_type": "code",
      "metadata": {
        "id": "_N1kMA9FjXGs",
        "outputId": "c9d24b74-4b07-4efb-c0dc-b07833730cf2",
        "colab": {
          "base_uri": "https://localhost:8080/"
        }
      },
      "source": [
        "images=images[0]\n",
        "labels=labels[1]\n",
        "n=len(images)\n",
        "images.shape"
      ],
      "execution_count": 55,
      "outputs": [
        {
          "output_type": "execute_result",
          "data": {
            "text/plain": [
              "(60000, 28, 28)"
            ]
          },
          "metadata": {
            "tags": []
          },
          "execution_count": 55
        }
      ]
    },
    {
      "cell_type": "code",
      "metadata": {
        "id": "GqKkI5BfSkLc"
      },
      "source": [
        "# mnist.keys()"
      ],
      "execution_count": 56,
      "outputs": []
    },
    {
      "cell_type": "code",
      "metadata": {
        "id": "pfWYuC1bSkLm"
      },
      "source": [
        "# mnist['data'].shape, mnist['target'].shape"
      ],
      "execution_count": 57,
      "outputs": []
    },
    {
      "cell_type": "code",
      "metadata": {
        "id": "pc29P4xoSkLv"
      },
      "source": [
        "# images = np.reshape(mnist['data'], (70000, 28, 28))\n",
        "# labels = mnist['target'].astype(int)\n",
        "# n=len(images)\n",
        "# images.shape, labels.shape"
      ],
      "execution_count": 58,
      "outputs": []
    },
    {
      "cell_type": "code",
      "metadata": {
        "id": "tyf7VnekSkL3"
      },
      "source": [
        "images = images/255"
      ],
      "execution_count": 59,
      "outputs": []
    },
    {
      "cell_type": "code",
      "metadata": {
        "id": "IIs5MHGASkMB",
        "outputId": "15526e26-b895-4b75-84c6-73e240188530",
        "colab": {
          "base_uri": "https://localhost:8080/",
          "height": 216
        }
      },
      "source": [
        "plot(images[0])"
      ],
      "execution_count": 60,
      "outputs": [
        {
          "output_type": "display_data",
          "data": {
            "image/png": "[encoded data removed]",
            "text/plain": [
              "<Figure size 216x432 with 1 Axes>"
            ]
          },
          "metadata": {
            "tags": [],
            "needs_background": "light"
          }
        }
      ]
    },
    {
      "cell_type": "code",
      "metadata": {
        "id": "V3KtfpQrSkMK",
        "outputId": "acd99a23-46d0-43bb-848b-837779686796",
        "colab": {
          "base_uri": "https://localhost:8080/"
        }
      },
      "source": [
        "labels[0]"
      ],
      "execution_count": 61,
      "outputs": [
        {
          "output_type": "execute_result",
          "data": {
            "text/plain": [
              "7"
            ]
          },
          "metadata": {
            "tags": []
          },
          "execution_count": 61
        }
      ]
    },
    {
      "cell_type": "code",
      "metadata": {
        "id": "YfTvmmsRSkMR",
        "outputId": "b3cf8830-cd43-4d59-d451-95ad62c7ebf9",
        "colab": {
          "base_uri": "https://localhost:8080/",
          "height": 183
        }
      },
      "source": [
        "plots(images[:5], titles=labels[:5])"
      ],
      "execution_count": 62,
      "outputs": [
        {
          "output_type": "display_data",
          "data": {
            "image/png": "[encoded data removed]",
            "text/plain": [
              "<Figure size 864x1728 with 5 Axes>"
            ]
          },
          "metadata": {
            "tags": [],
            "needs_background": "light"
          }
        }
      ]
    },
    {
      "cell_type": "markdown",
      "metadata": {
        "id": "QGTtpDJ4SkMY"
      },
      "source": [
        "we can zoom in on part of the image"
      ]
    },
    {
      "cell_type": "code",
      "metadata": {
        "id": "zJ4Nd9YhSkMZ",
        "outputId": "24743a5d-733c-4686-c459-dcbc1c52e28a",
        "colab": {
          "base_uri": "https://localhost:8080/",
          "height": 215
        }
      },
      "source": [
        "plot(images[0,0:14, 8:22])"
      ],
      "execution_count": 63,
      "outputs": [
        {
          "output_type": "display_data",
          "data": {
            "image/png": "[encoded data removed]",
            "text/plain": [
              "<Figure size 216x432 with 1 Axes>"
            ]
          },
          "metadata": {
            "tags": [],
            "needs_background": "light"
          }
        }
      ]
    },
    {
      "cell_type": "markdown",
      "metadata": {
        "id": "5ekk7sYLSkMg"
      },
      "source": [
        "## Edge Detection"
      ]
    },
    {
      "cell_type": "markdown",
      "metadata": {
        "id": "V5hYAubwSkMh"
      },
      "source": [
        "We will look at how to create an Edge detector:"
      ]
    },
    {
      "cell_type": "code",
      "metadata": {
        "id": "JiAdke1DSkMi",
        "outputId": "b47d2672-e5d9-4eb6-92ea-bbc05d6b1e56",
        "colab": {
          "base_uri": "https://localhost:8080/",
          "height": 219
        }
      },
      "source": [
        "top=[[-1,-1,-1],\n",
        "     [ 1, 1, 1],\n",
        "     [ 0, 0, 0]]\n",
        "\n",
        "plot(top)"
      ],
      "execution_count": 64,
      "outputs": [
        {
          "output_type": "display_data",
          "data": {
            "image/png": "[encoded data removed]",
            "text/plain": [
              "<Figure size 216x432 with 1 Axes>"
            ]
          },
          "metadata": {
            "tags": [],
            "needs_background": "light"
          }
        }
      ]
    },
    {
      "cell_type": "code",
      "metadata": {
        "id": "zyX6zkSWjtNH",
        "outputId": "d0eb6530-92da-475d-beb6-440446c53838",
        "colab": {
          "base_uri": "https://localhost:8080/",
          "height": 344,
          "referenced_widgets": [
            "cb0bf89163344daa85c82389804e7545",
            "c07172962f1d4f4db7251c292f16ce4c",
            "fcdf9baedf0f4fc3a9ecd9a3f37e6699",
            "57d08494de744d668697696481594caf",
            "809c611f8d914fe7b75aeabf945c9c59",
            "c9f74801f6d74d1b820a6f738ee6550d",
            "f9dc0e6e1e98464ba7ae31aec57163ac",
            "77fb955a615a4edb8d21aee961fba9e4",
            "959fad4f51494778948265adab0b2142",
            "d2e6f11392d64169816fdd1fc8aa63c9",
            "5dce35edf087432e9e4ed711a4a11461",
            "1cf52112eefa47158078d811ad19309e",
            "3e2de6bad0a34b3aa5c74468ea6c606c",
            "ea04285ea2e84642a2ce0e0d3baf1368",
            "ac86340a2a72492fa19730180ff980d1",
            "30148ba0a0664691b4438a6c1b934142"
          ]
        }
      },
      "source": [
        "#Added from fasta2020 course notebook\n",
        "r=(0,28)\n",
        "def zoomim(x1=0,x2=28,y1=0,y2=28):\n",
        "    plot(images[0,y1:y2,x1:x2])\n",
        "w=interactive(zoomim, x1=r,x2=r,y1=r,y2=r)\n",
        "w"
      ],
      "execution_count": 65,
      "outputs": [
        {
          "output_type": "display_data",
          "data": {
            "application/vnd.jupyter.widget-view+json": {
              "model_id": "cb0bf89163344daa85c82389804e7545",
              "version_minor": 0,
              "version_major": 2
            },
            "text/plain": [
              "interactive(children=(IntSlider(value=0, description='x1', max=28), IntSlider(value=28, description='x2', max=…"
            ]
          },
          "metadata": {
            "tags": []
          }
        }
      ]
    },
    {
      "cell_type": "code",
      "metadata": {
        "id": "xoQ4qu0HSkMq",
        "outputId": "d74363a9-3cf9-47ca-de74-76d67cf01d76"
      },
      "source": [
        "dims = np.index_exp[10:28:1,3:13]\n",
        "images[0][dims]"
      ],
      "execution_count": null,
      "outputs": [
        {
          "output_type": "execute_result",
          "data": {
            "text/plain": [
              "array([[ 0.    ,  0.    ,  0.    ,  0.    ,  0.    ,  0.    ,  0.1882,  0.9333,  0.9882,  0.9882],\n",
              "       [ 0.    ,  0.    ,  0.    ,  0.    ,  0.    ,  0.149 ,  0.6471,  0.9922,  0.9137,  0.8157],\n",
              "       [ 0.    ,  0.    ,  0.    ,  0.    ,  0.0275,  0.698 ,  0.9882,  0.9412,  0.2784,  0.0745],\n",
              "       [ 0.    ,  0.    ,  0.    ,  0.    ,  0.2235,  0.9882,  0.9882,  0.2471,  0.    ,  0.    ],\n",
              "       [ 0.    ,  0.    ,  0.    ,  0.    ,  0.7765,  0.9922,  0.7451,  0.    ,  0.    ,  0.    ],\n",
              "       [ 0.    ,  0.    ,  0.    ,  0.298 ,  0.9647,  0.9882,  0.4392,  0.    ,  0.    ,  0.    ],\n",
              "       [ 0.    ,  0.    ,  0.    ,  0.3333,  0.9882,  0.902 ,  0.098 ,  0.    ,  0.    ,  0.    ],\n",
              "       [ 0.    ,  0.    ,  0.    ,  0.3333,  0.9882,  0.8745,  0.    ,  0.    ,  0.    ,  0.    ],\n",
              "       [ 0.    ,  0.    ,  0.    ,  0.3333,  0.9882,  0.5686,  0.    ,  0.    ,  0.    ,  0.    ],\n",
              "       [ 0.    ,  0.    ,  0.    ,  0.3373,  0.9922,  0.8824,  0.    ,  0.    ,  0.    ,  0.    ],\n",
              "       [ 0.    ,  0.    ,  0.    ,  0.3333,  0.9882,  0.9765,  0.5725,  0.1882,  0.1137,  0.3333],\n",
              "       [ 0.    ,  0.    ,  0.    ,  0.3333,  0.9882,  0.9882,  0.9882,  0.898 ,  0.8431,  0.9882],\n",
              "       [ 0.    ,  0.    ,  0.    ,  0.1098,  0.7804,  0.9882,  0.9882,  0.9922,  0.9882,  0.9882],\n",
              "       [ 0.    ,  0.    ,  0.    ,  0.    ,  0.098 ,  0.502 ,  0.9882,  0.9922,  0.9882,  0.5529],\n",
              "       [ 0.    ,  0.    ,  0.    ,  0.    ,  0.    ,  0.    ,  0.    ,  0.    ,  0.    ,  0.    ],\n",
              "       [ 0.    ,  0.    ,  0.    ,  0.    ,  0.    ,  0.    ,  0.    ,  0.    ,  0.    ,  0.    ],\n",
              "       [ 0.    ,  0.    ,  0.    ,  0.    ,  0.    ,  0.    ,  0.    ,  0.    ,  0.    ,  0.    ],\n",
              "       [ 0.    ,  0.    ,  0.    ,  0.    ,  0.    ,  0.    ,  0.    ,  0.    ,  0.    ,  0.    ]])"
            ]
          },
          "metadata": {
            "tags": []
          },
          "execution_count": 90
        }
      ]
    },
    {
      "cell_type": "code",
      "metadata": {
        "id": "WeZPvcTySkMz"
      },
      "source": [
        "corrtop = correlate(images[0], top)"
      ],
      "execution_count": null,
      "outputs": []
    },
    {
      "cell_type": "code",
      "metadata": {
        "scrolled": true,
        "id": "fWNI3B3TSkM9",
        "outputId": "281cd6ee-6842-4326-e47c-6e7740f53c39"
      },
      "source": [
        "corrtop[dims]"
      ],
      "execution_count": null,
      "outputs": [
        {
          "output_type": "execute_result",
          "data": {
            "text/plain": [
              "array([[ 0.    ,  0.    ,  0.    ,  0.    ,  0.    ,  0.1882,  0.9216,  0.9765,  0.7843, -0.2392],\n",
              "       [ 0.    ,  0.    ,  0.    ,  0.    ,  0.149 ,  0.6078,  0.6667,  0.4431, -0.1882, -0.6196],\n",
              "       [ 0.    ,  0.    ,  0.    ,  0.0275,  0.5765,  0.9176,  0.8392, -0.3451, -1.4275, -1.5961],\n",
              "       [ 0.    ,  0.    ,  0.    ,  0.1961,  0.4863,  0.4863, -0.4039, -0.9725, -1.0471, -0.4627],\n",
              "       [ 0.    ,  0.    ,  0.    ,  0.5529,  0.5569,  0.3137, -0.4863, -0.4902, -0.2471,  0.    ],\n",
              "       [ 0.    ,  0.    ,  0.298 ,  0.4863,  0.4824, -0.1216, -0.3098, -0.3059,  0.    ,  0.    ],\n",
              "       [ 0.    ,  0.    ,  0.0353,  0.0588, -0.0275, -0.4039, -0.4275, -0.3412,  0.    ,  0.    ],\n",
              "       [ 0.    ,  0.    ,  0.    ,  0.    , -0.0275, -0.1255, -0.1255, -0.098 ,  0.    ,  0.    ],\n",
              "       [ 0.    ,  0.    ,  0.    ,  0.    , -0.3059, -0.3059, -0.3059,  0.    ,  0.    ,  0.    ],\n",
              "       [ 0.    ,  0.    ,  0.0039,  0.0078,  0.3216,  0.3176,  0.3137,  0.    ,  0.    ,  0.    ],\n",
              "       [ 0.    ,  0.    , -0.0039, -0.0078,  0.0863,  0.6627,  0.8549,  0.8745,  0.6353,  1.1451],\n",
              "       [ 0.    ,  0.    ,  0.    ,  0.    ,  0.0118,  0.4275,  1.1373,  1.8549,  2.0941,  1.6745],\n",
              "       [ 0.    ,  0.    , -0.2235, -0.4314, -0.4314, -0.2078,  0.0941,  0.2392,  0.2392,  0.0706],\n",
              "       [ 0.    ,  0.    , -0.1098, -0.7922, -1.2784, -1.1686, -0.4863,  0.    , -0.4353, -1.2039],\n",
              "       [ 0.    ,  0.    ,  0.    , -0.098 , -0.6   , -1.5882, -2.4824, -2.9686, -2.5333, -1.6863],\n",
              "       [ 0.    ,  0.    ,  0.    ,  0.    ,  0.    ,  0.    ,  0.    ,  0.    ,  0.    ,  0.    ],\n",
              "       [ 0.    ,  0.    ,  0.    ,  0.    ,  0.    ,  0.    ,  0.    ,  0.    ,  0.    ,  0.    ],\n",
              "       [ 0.    ,  0.    ,  0.    ,  0.    ,  0.    ,  0.    ,  0.    ,  0.    ,  0.    ,  0.    ]])"
            ]
          },
          "metadata": {
            "tags": []
          },
          "execution_count": 62
        }
      ]
    },
    {
      "cell_type": "code",
      "metadata": {
        "id": "3nWAkWt3SkNE",
        "outputId": "23567f19-f35b-4703-cc24-56afb0c0f97b"
      },
      "source": [
        "plot(corrtop)"
      ],
      "execution_count": null,
      "outputs": [
        {
          "output_type": "display_data",
          "data": {
            "image/png": "[encoded data removed]",
            "text/plain": [
              "<matplotlib.figure.Figure at 0x7fc9cd5ec4a8>"
            ]
          },
          "metadata": {
            "tags": []
          }
        }
      ]
    },
    {
      "cell_type": "code",
      "metadata": {
        "id": "PCosJpy6SkNL",
        "outputId": "ab9ae6e9-367e-46bd-a4aa-30c17cd1b1c3"
      },
      "source": [
        "np.rot90(top, 1)"
      ],
      "execution_count": null,
      "outputs": [
        {
          "output_type": "execute_result",
          "data": {
            "text/plain": [
              "array([[-1,  1,  0],\n",
              "       [-1,  1,  0],\n",
              "       [-1,  1,  0]])"
            ]
          },
          "metadata": {
            "tags": []
          },
          "execution_count": 65
        }
      ]
    },
    {
      "cell_type": "code",
      "metadata": {
        "scrolled": true,
        "id": "WmNU0rI8SkNS",
        "outputId": "027c5de3-f08c-45b0-97e2-391ff78b4f0d"
      },
      "source": [
        "convtop = convolve(images[0], np.rot90(top,2))\n",
        "plot(convtop)\n",
        "np.allclose(convtop, corrtop)"
      ],
      "execution_count": null,
      "outputs": [
        {
          "output_type": "execute_result",
          "data": {
            "text/plain": [
              "True"
            ]
          },
          "metadata": {
            "tags": []
          },
          "execution_count": 66
        },
        {
          "output_type": "display_data",
          "data": {
            "image/png": "[encoded data removed]",
            "text/plain": [
              "<matplotlib.figure.Figure at 0x7fc9cd5bb2b0>"
            ]
          },
          "metadata": {
            "tags": []
          }
        }
      ]
    },
    {
      "cell_type": "code",
      "metadata": {
        "id": "CleksLT0SkNZ",
        "outputId": "da957588-6c20-4d67-c4e8-08381213c534"
      },
      "source": [
        "straights=[np.rot90(top,i) for i in range(4)]\n",
        "plots(straights)"
      ],
      "execution_count": null,
      "outputs": [
        {
          "output_type": "display_data",
          "data": {
            "image/png": "[encoded data removed]",
            "text/plain": [
              "<matplotlib.figure.Figure at 0x7fc9cd8e0940>"
            ]
          },
          "metadata": {
            "tags": []
          }
        }
      ]
    },
    {
      "cell_type": "code",
      "metadata": {
        "id": "Aylx7rG0SkNd",
        "outputId": "a7e3ce45-4474-459f-c009-f4f340b07647"
      },
      "source": [
        "br=[[ 0, 0, 1],\n",
        "    [ 0, 1,-1.5],\n",
        "    [ 1,-1.5, 0]]\n",
        "\n",
        "diags = [np.rot90(br,i) for i in range(4)]\n",
        "plots(diags)"
      ],
      "execution_count": null,
      "outputs": [
        {
          "output_type": "display_data",
          "data": {
            "image/png": "[encoded data removed]",
            "text/plain": [
              "<matplotlib.figure.Figure at 0x7fc9cdacafd0>"
            ]
          },
          "metadata": {
            "tags": []
          }
        }
      ]
    },
    {
      "cell_type": "code",
      "metadata": {
        "id": "qwCPxTR9SkNg",
        "outputId": "0644c045-0ae6-44c4-e5fc-4b1d5af325ac"
      },
      "source": [
        "rots = straights + diags\n",
        "corrs = [correlate(images[0], rot) for rot in rots]\n",
        "plots(corrs)"
      ],
      "execution_count": null,
      "outputs": [
        {
          "output_type": "display_data",
          "data": {
            "image/png": "[encoded data removed]",
            "text/plain": [
              "<matplotlib.figure.Figure at 0x7fca00481860>"
            ]
          },
          "metadata": {
            "tags": []
          }
        }
      ]
    },
    {
      "cell_type": "code",
      "metadata": {
        "id": "3WhmDYVZSkNi"
      },
      "source": [
        "eights=[images[i] for i in range(n) if labels[i]==8]\n",
        "ones=[images[i] for i in range(n) if labels[i]==1]"
      ],
      "execution_count": null,
      "outputs": []
    },
    {
      "cell_type": "code",
      "metadata": {
        "id": "SFTOzuMoSkNl",
        "outputId": "389bb6fb-1ee2-4af6-fd96-714d059bb45c"
      },
      "source": [
        "plots(eights[:5])\n",
        "plots(ones[:5])"
      ],
      "execution_count": null,
      "outputs": [
        {
          "output_type": "display_data",
          "data": {
            "image/png": "[encoded data removed]",
            "text/plain": [
              "<matplotlib.figure.Figure at 0x7fc9cd703128>"
            ]
          },
          "metadata": {
            "tags": []
          }
        },
        {
          "output_type": "display_data",
          "data": {
            "image/png": "[encoded data removed]",
            "text/plain": [
              "<matplotlib.figure.Figure at 0x7fc9cd5216d8>"
            ]
          },
          "metadata": {
            "tags": []
          }
        }
      ]
    },
    {
      "cell_type": "code",
      "metadata": {
        "id": "H7Oh8UD1SkNn"
      },
      "source": [
        "def normalize(arr): return (arr-arr.mean())/arr.std()"
      ],
      "execution_count": null,
      "outputs": []
    },
    {
      "cell_type": "code",
      "metadata": {
        "id": "N-tqUsu0SkNp"
      },
      "source": [
        "filts8 = np.array([ims.mean(axis=0) for ims in pool8])\n",
        "filts8 = normalize(filts8)"
      ],
      "execution_count": null,
      "outputs": []
    },
    {
      "cell_type": "code",
      "metadata": {
        "id": "_9OWqwfeSkNs",
        "outputId": "a8f16c4c-005d-4f0f-8694-4b7ace9ca872"
      },
      "source": [
        "plots(filts8)"
      ],
      "execution_count": null,
      "outputs": [
        {
          "output_type": "display_data",
          "data": {
            "image/png": "[encoded data removed]",
            "text/plain": [
              "<matplotlib.figure.Figure at 0x7fc9cd8e6da0>"
            ]
          },
          "metadata": {
            "tags": []
          }
        }
      ]
    },
    {
      "cell_type": "code",
      "metadata": {
        "id": "Df1N3C-tSkNv"
      },
      "source": [
        "pool1 = [np.array([pool(correlate(im, rot)) for im in ones]) for rot in rots]\n",
        "filts1 = np.array([ims.mean(axis=0) for ims in pool1])\n",
        "filts1 = normalize(filts1)"
      ],
      "execution_count": null,
      "outputs": []
    },
    {
      "cell_type": "code",
      "metadata": {
        "id": "a5LT2wcoSkNw",
        "outputId": "8b3b6851-0bc1-4f45-e3c3-b2548d8750d4"
      },
      "source": [
        "plots(filts1)"
      ],
      "execution_count": null,
      "outputs": [
        {
          "output_type": "display_data",
          "data": {
            "image/png": "[encoded data removed]",
            "text/plain": [
              "<matplotlib.figure.Figure at 0x7f0aa6ef2b50>"
            ]
          },
          "metadata": {
            "tags": []
          }
        }
      ]
    },
    {
      "cell_type": "code",
      "metadata": {
        "id": "zV0Svnw4SkNy"
      },
      "source": [
        "def pool_corr(im): return np.array([pool(correlate(im, rot)) for rot in rots])"
      ],
      "execution_count": null,
      "outputs": []
    },
    {
      "cell_type": "code",
      "metadata": {
        "id": "t89J_Y2SSkN0",
        "outputId": "411a329b-0cf6-47be-dbbb-733cca07724b"
      },
      "source": [
        "plots(pool_corr(eights[0]))"
      ],
      "execution_count": null,
      "outputs": [
        {
          "output_type": "display_data",
          "data": {
            "image/png": "[encoded data removed]",
            "text/plain": [
              "<matplotlib.figure.Figure at 0x7f0aa77da8d0>"
            ]
          },
          "metadata": {
            "tags": []
          }
        }
      ]
    },
    {
      "cell_type": "code",
      "metadata": {
        "id": "_d4QNbjcSkN2"
      },
      "source": [
        "def sse(a,b): return ((a-b)**2).sum()\n",
        "def is8_n2(im): return 1 if sse(pool_corr(im),filts1) > sse(pool_corr(im),filts8) else 0"
      ],
      "execution_count": null,
      "outputs": []
    },
    {
      "cell_type": "code",
      "metadata": {
        "id": "ZJ0GblYbSkN4",
        "outputId": "79da402c-79c1-413b-9655-ca2f4f8b6c67"
      },
      "source": [
        "sse(pool_corr(eights[0]), filts8), sse(pool_corr(eights[0]), filts1)"
      ],
      "execution_count": null,
      "outputs": [
        {
          "output_type": "execute_result",
          "data": {
            "text/plain": [
              "(126.77776, 181.26105)"
            ]
          },
          "metadata": {
            "tags": []
          },
          "execution_count": 36
        }
      ]
    },
    {
      "cell_type": "code",
      "metadata": {
        "id": "e-JTk83HSkN6",
        "outputId": "acdf0d06-29d9-498f-e220-085ffde881b4"
      },
      "source": [
        "[np.array([is8_n2(im) for im in ims]).sum() for ims in [eights,ones]]"
      ],
      "execution_count": null,
      "outputs": [
        {
          "output_type": "execute_result",
          "data": {
            "text/plain": [
              "[5223, 287]"
            ]
          },
          "metadata": {
            "tags": []
          },
          "execution_count": 37
        }
      ]
    },
    {
      "cell_type": "code",
      "metadata": {
        "id": "57vAt-QPSkN8",
        "outputId": "916d2b67-8915-4f7a-bab8-5288d11b78fd"
      },
      "source": [
        "[np.array([(1-is8_n2(im)) for im in ims]).sum() for ims in [eights,ones]]"
      ],
      "execution_count": null,
      "outputs": [
        {
          "output_type": "execute_result",
          "data": {
            "text/plain": [
              "[166, 5892]"
            ]
          },
          "metadata": {
            "tags": []
          },
          "execution_count": 38
        }
      ]
    },
    {
      "cell_type": "code",
      "metadata": {
        "id": "QA-1quV1SkN-"
      },
      "source": [
        "def n1(a,b): return (np.fabs(a-b)).sum()\n",
        "def is8_n1(im): return 1 if n1(pool_corr(im),filts1) > n1(pool_corr(im),filts8) else 0"
      ],
      "execution_count": null,
      "outputs": []
    },
    {
      "cell_type": "code",
      "metadata": {
        "id": "c9lSsa6HSkOA"
      },
      "source": [
        "[np.array([is8_n1(im) for im in ims]).sum() for ims in [eights,ones]]"
      ],
      "execution_count": null,
      "outputs": []
    },
    {
      "cell_type": "code",
      "metadata": {
        "id": "01JiLQTaSkOC"
      },
      "source": [
        "[np.array([(1-is8_n1(im)) for im in ims]).sum() for ims in [eights,ones]]"
      ],
      "execution_count": null,
      "outputs": []
    },
    {
      "cell_type": "code",
      "metadata": {
        "id": "qlA1RKekSkOE"
      },
      "source": [
        ""
      ],
      "execution_count": null,
      "outputs": []
    }
  ]
}