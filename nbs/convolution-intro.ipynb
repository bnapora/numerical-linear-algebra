{
  "nbformat": 4,
  "nbformat_minor": 0,
  "metadata": {
    "anaconda-cloud": {},
    "kernelspec": {
      "display_name": "Python [conda root]",
      "language": "python",
      "name": "conda-root-py"
    },
    "language_info": {
      "codemirror_mode": {
        "name": "ipython",
        "version": 3
      },
      "file_extension": ".py",
      "mimetype": "text/x-python",
      "name": "python",
      "nbconvert_exporter": "python",
      "pygments_lexer": "ipython3",
      "version": "3.6.1"
    },
    "nav_menu": {},
    "toc": {
      "navigate_menu": true,
      "number_sections": true,
      "sideBar": true,
      "threshold": 6,
      "toc_cell": false,
      "toc_section_display": "block",
      "toc_window_display": false
    },
    "widgets": {
      "application/vnd.jupyter.widget-state+json": {
        "601d664a0383457dacf7a9f48516d3f8": {
          "model_module": "@jupyter-widgets/controls",
          "model_name": "VBoxModel",
          "state": {
            "_view_name": "VBoxView",
            "_dom_classes": [
              "widget-interact"
            ],
            "_model_name": "VBoxModel",
            "_view_module": "@jupyter-widgets/controls",
            "_model_module_version": "1.5.0",
            "_view_count": null,
            "_view_module_version": "1.5.0",
            "box_style": "",
            "layout": "IPY_MODEL_2812eb1c60e24a45b8b68ba3d8dbc403",
            "_model_module": "@jupyter-widgets/controls",
            "children": [
              "IPY_MODEL_13eb7cd75af8407699331f20f742dc6e",
              "IPY_MODEL_09eabeb8b7204e08aa48f9a70b6eb0b7",
              "IPY_MODEL_19d0f9b4bd334a0a8975e38d3b9d17ac",
              "IPY_MODEL_bd222ebe333a4fd4878d06fe9da97dd0",
              "IPY_MODEL_ce3630a029f8454b8b046147ca7fbf68"
            ]
          }
        },
        "2812eb1c60e24a45b8b68ba3d8dbc403": {
          "model_module": "@jupyter-widgets/base",
          "model_name": "LayoutModel",
          "state": {
            "_view_name": "LayoutView",
            "grid_template_rows": null,
            "right": null,
            "justify_content": null,
            "_view_module": "@jupyter-widgets/base",
            "overflow": null,
            "_model_module_version": "1.2.0",
            "_view_count": null,
            "flex_flow": null,
            "width": null,
            "min_width": null,
            "border": null,
            "align_items": null,
            "bottom": null,
            "_model_module": "@jupyter-widgets/base",
            "top": null,
            "grid_column": null,
            "overflow_y": null,
            "overflow_x": null,
            "grid_auto_flow": null,
            "grid_area": null,
            "grid_template_columns": null,
            "flex": null,
            "_model_name": "LayoutModel",
            "justify_items": null,
            "grid_row": null,
            "max_height": null,
            "align_content": null,
            "visibility": null,
            "align_self": null,
            "height": null,
            "min_height": null,
            "padding": null,
            "grid_auto_rows": null,
            "grid_gap": null,
            "max_width": null,
            "order": null,
            "_view_module_version": "1.2.0",
            "grid_template_areas": null,
            "object_position": null,
            "object_fit": null,
            "grid_auto_columns": null,
            "margin": null,
            "display": null,
            "left": null
          }
        },
        "13eb7cd75af8407699331f20f742dc6e": {
          "model_module": "@jupyter-widgets/controls",
          "model_name": "IntSliderModel",
          "state": {
            "_view_name": "IntSliderView",
            "style": "IPY_MODEL_d6407325931a496ba837950005fdf8cc",
            "_dom_classes": [],
            "description": "x1",
            "step": 1,
            "_model_name": "IntSliderModel",
            "orientation": "horizontal",
            "max": 28,
            "_view_module": "@jupyter-widgets/controls",
            "_model_module_version": "1.5.0",
            "value": 0,
            "_view_count": null,
            "disabled": false,
            "_view_module_version": "1.5.0",
            "min": 0,
            "continuous_update": true,
            "readout_format": "d",
            "description_tooltip": null,
            "readout": true,
            "_model_module": "@jupyter-widgets/controls",
            "layout": "IPY_MODEL_93523b2bec364d2facd5cb476d772557"
          }
        },
        "09eabeb8b7204e08aa48f9a70b6eb0b7": {
          "model_module": "@jupyter-widgets/controls",
          "model_name": "IntSliderModel",
          "state": {
            "_view_name": "IntSliderView",
            "style": "IPY_MODEL_e998add8be2441cba2da6bd3626947f5",
            "_dom_classes": [],
            "description": "x2",
            "step": 1,
            "_model_name": "IntSliderModel",
            "orientation": "horizontal",
            "max": 28,
            "_view_module": "@jupyter-widgets/controls",
            "_model_module_version": "1.5.0",
            "value": 28,
            "_view_count": null,
            "disabled": false,
            "_view_module_version": "1.5.0",
            "min": 0,
            "continuous_update": true,
            "readout_format": "d",
            "description_tooltip": null,
            "readout": true,
            "_model_module": "@jupyter-widgets/controls",
            "layout": "IPY_MODEL_394bbfe58a624c1398d60a5f25ce8bd6"
          }
        },
        "19d0f9b4bd334a0a8975e38d3b9d17ac": {
          "model_module": "@jupyter-widgets/controls",
          "model_name": "IntSliderModel",
          "state": {
            "_view_name": "IntSliderView",
            "style": "IPY_MODEL_2833fb9815ce4e8fa78881686fba033c",
            "_dom_classes": [],
            "description": "y1",
            "step": 1,
            "_model_name": "IntSliderModel",
            "orientation": "horizontal",
            "max": 28,
            "_view_module": "@jupyter-widgets/controls",
            "_model_module_version": "1.5.0",
            "value": 0,
            "_view_count": null,
            "disabled": false,
            "_view_module_version": "1.5.0",
            "min": 0,
            "continuous_update": true,
            "readout_format": "d",
            "description_tooltip": null,
            "readout": true,
            "_model_module": "@jupyter-widgets/controls",
            "layout": "IPY_MODEL_33f0d27491dc4046814b78f6e0843342"
          }
        },
        "bd222ebe333a4fd4878d06fe9da97dd0": {
          "model_module": "@jupyter-widgets/controls",
          "model_name": "IntSliderModel",
          "state": {
            "_view_name": "IntSliderView",
            "style": "IPY_MODEL_0da6e22978dc4e9d879fc961e8174ba1",
            "_dom_classes": [],
            "description": "y2",
            "step": 1,
            "_model_name": "IntSliderModel",
            "orientation": "horizontal",
            "max": 28,
            "_view_module": "@jupyter-widgets/controls",
            "_model_module_version": "1.5.0",
            "value": 28,
            "_view_count": null,
            "disabled": false,
            "_view_module_version": "1.5.0",
            "min": 0,
            "continuous_update": true,
            "readout_format": "d",
            "description_tooltip": null,
            "readout": true,
            "_model_module": "@jupyter-widgets/controls",
            "layout": "IPY_MODEL_aa9e846028fc4b2a89205605538f6c0e"
          }
        },
        "ce3630a029f8454b8b046147ca7fbf68": {
          "model_module": "@jupyter-widgets/output",
          "model_name": "OutputModel",
          "state": {
            "_view_name": "OutputView",
            "msg_id": "",
            "_dom_classes": [],
            "_model_name": "OutputModel",
            "outputs": [
              {
                "output_type": "display_data",
                "metadata": {
                  "tags": [],
                  "needs_background": "light"
                },
                "image/png": "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\n",
                "text/plain": "<Figure size 216x432 with 1 Axes>"
              }
            ],
            "_view_module": "@jupyter-widgets/output",
            "_model_module_version": "1.0.0",
            "_view_count": null,
            "_view_module_version": "1.0.0",
            "layout": "IPY_MODEL_8c03908ecb8a4fdaa6dcc098b5443d06",
            "_model_module": "@jupyter-widgets/output"
          }
        },
        "d6407325931a496ba837950005fdf8cc": {
          "model_module": "@jupyter-widgets/controls",
          "model_name": "SliderStyleModel",
          "state": {
            "_view_name": "StyleView",
            "handle_color": null,
            "_model_name": "SliderStyleModel",
            "description_width": "",
            "_view_module": "@jupyter-widgets/base",
            "_model_module_version": "1.5.0",
            "_view_count": null,
            "_view_module_version": "1.2.0",
            "_model_module": "@jupyter-widgets/controls"
          }
        },
        "93523b2bec364d2facd5cb476d772557": {
          "model_module": "@jupyter-widgets/base",
          "model_name": "LayoutModel",
          "state": {
            "_view_name": "LayoutView",
            "grid_template_rows": null,
            "right": null,
            "justify_content": null,
            "_view_module": "@jupyter-widgets/base",
            "overflow": null,
            "_model_module_version": "1.2.0",
            "_view_count": null,
            "flex_flow": null,
            "width": null,
            "min_width": null,
            "border": null,
            "align_items": null,
            "bottom": null,
            "_model_module": "@jupyter-widgets/base",
            "top": null,
            "grid_column": null,
            "overflow_y": null,
            "overflow_x": null,
            "grid_auto_flow": null,
            "grid_area": null,
            "grid_template_columns": null,
            "flex": null,
            "_model_name": "LayoutModel",
            "justify_items": null,
            "grid_row": null,
            "max_height": null,
            "align_content": null,
            "visibility": null,
            "align_self": null,
            "height": null,
            "min_height": null,
            "padding": null,
            "grid_auto_rows": null,
            "grid_gap": null,
            "max_width": null,
            "order": null,
            "_view_module_version": "1.2.0",
            "grid_template_areas": null,
            "object_position": null,
            "object_fit": null,
            "grid_auto_columns": null,
            "margin": null,
            "display": null,
            "left": null
          }
        },
        "e998add8be2441cba2da6bd3626947f5": {
          "model_module": "@jupyter-widgets/controls",
          "model_name": "SliderStyleModel",
          "state": {
            "_view_name": "StyleView",
            "handle_color": null,
            "_model_name": "SliderStyleModel",
            "description_width": "",
            "_view_module": "@jupyter-widgets/base",
            "_model_module_version": "1.5.0",
            "_view_count": null,
            "_view_module_version": "1.2.0",
            "_model_module": "@jupyter-widgets/controls"
          }
        },
        "394bbfe58a624c1398d60a5f25ce8bd6": {
          "model_module": "@jupyter-widgets/base",
          "model_name": "LayoutModel",
          "state": {
            "_view_name": "LayoutView",
            "grid_template_rows": null,
            "right": null,
            "justify_content": null,
            "_view_module": "@jupyter-widgets/base",
            "overflow": null,
            "_model_module_version": "1.2.0",
            "_view_count": null,
            "flex_flow": null,
            "width": null,
            "min_width": null,
            "border": null,
            "align_items": null,
            "bottom": null,
            "_model_module": "@jupyter-widgets/base",
            "top": null,
            "grid_column": null,
            "overflow_y": null,
            "overflow_x": null,
            "grid_auto_flow": null,
            "grid_area": null,
            "grid_template_columns": null,
            "flex": null,
            "_model_name": "LayoutModel",
            "justify_items": null,
            "grid_row": null,
            "max_height": null,
            "align_content": null,
            "visibility": null,
            "align_self": null,
            "height": null,
            "min_height": null,
            "padding": null,
            "grid_auto_rows": null,
            "grid_gap": null,
            "max_width": null,
            "order": null,
            "_view_module_version": "1.2.0",
            "grid_template_areas": null,
            "object_position": null,
            "object_fit": null,
            "grid_auto_columns": null,
            "margin": null,
            "display": null,
            "left": null
          }
        },
        "2833fb9815ce4e8fa78881686fba033c": {
          "model_module": "@jupyter-widgets/controls",
          "model_name": "SliderStyleModel",
          "state": {
            "_view_name": "StyleView",
            "handle_color": null,
            "_model_name": "SliderStyleModel",
            "description_width": "",
            "_view_module": "@jupyter-widgets/base",
            "_model_module_version": "1.5.0",
            "_view_count": null,
            "_view_module_version": "1.2.0",
            "_model_module": "@jupyter-widgets/controls"
          }
        },
        "33f0d27491dc4046814b78f6e0843342": {
          "model_module": "@jupyter-widgets/base",
          "model_name": "LayoutModel",
          "state": {
            "_view_name": "LayoutView",
            "grid_template_rows": null,
            "right": null,
            "justify_content": null,
            "_view_module": "@jupyter-widgets/base",
            "overflow": null,
            "_model_module_version": "1.2.0",
            "_view_count": null,
            "flex_flow": null,
            "width": null,
            "min_width": null,
            "border": null,
            "align_items": null,
            "bottom": null,
            "_model_module": "@jupyter-widgets/base",
            "top": null,
            "grid_column": null,
            "overflow_y": null,
            "overflow_x": null,
            "grid_auto_flow": null,
            "grid_area": null,
            "grid_template_columns": null,
            "flex": null,
            "_model_name": "LayoutModel",
            "justify_items": null,
            "grid_row": null,
            "max_height": null,
            "align_content": null,
            "visibility": null,
            "align_self": null,
            "height": null,
            "min_height": null,
            "padding": null,
            "grid_auto_rows": null,
            "grid_gap": null,
            "max_width": null,
            "order": null,
            "_view_module_version": "1.2.0",
            "grid_template_areas": null,
            "object_position": null,
            "object_fit": null,
            "grid_auto_columns": null,
            "margin": null,
            "display": null,
            "left": null
          }
        },
        "0da6e22978dc4e9d879fc961e8174ba1": {
          "model_module": "@jupyter-widgets/controls",
          "model_name": "SliderStyleModel",
          "state": {
            "_view_name": "StyleView",
            "handle_color": null,
            "_model_name": "SliderStyleModel",
            "description_width": "",
            "_view_module": "@jupyter-widgets/base",
            "_model_module_version": "1.5.0",
            "_view_count": null,
            "_view_module_version": "1.2.0",
            "_model_module": "@jupyter-widgets/controls"
          }
        },
        "aa9e846028fc4b2a89205605538f6c0e": {
          "model_module": "@jupyter-widgets/base",
          "model_name": "LayoutModel",
          "state": {
            "_view_name": "LayoutView",
            "grid_template_rows": null,
            "right": null,
            "justify_content": null,
            "_view_module": "@jupyter-widgets/base",
            "overflow": null,
            "_model_module_version": "1.2.0",
            "_view_count": null,
            "flex_flow": null,
            "width": null,
            "min_width": null,
            "border": null,
            "align_items": null,
            "bottom": null,
            "_model_module": "@jupyter-widgets/base",
            "top": null,
            "grid_column": null,
            "overflow_y": null,
            "overflow_x": null,
            "grid_auto_flow": null,
            "grid_area": null,
            "grid_template_columns": null,
            "flex": null,
            "_model_name": "LayoutModel",
            "justify_items": null,
            "grid_row": null,
            "max_height": null,
            "align_content": null,
            "visibility": null,
            "align_self": null,
            "height": null,
            "min_height": null,
            "padding": null,
            "grid_auto_rows": null,
            "grid_gap": null,
            "max_width": null,
            "order": null,
            "_view_module_version": "1.2.0",
            "grid_template_areas": null,
            "object_position": null,
            "object_fit": null,
            "grid_auto_columns": null,
            "margin": null,
            "display": null,
            "left": null
          }
        },
        "8c03908ecb8a4fdaa6dcc098b5443d06": {
          "model_module": "@jupyter-widgets/base",
          "model_name": "LayoutModel",
          "state": {
            "_view_name": "LayoutView",
            "grid_template_rows": null,
            "right": null,
            "justify_content": null,
            "_view_module": "@jupyter-widgets/base",
            "overflow": null,
            "_model_module_version": "1.2.0",
            "_view_count": null,
            "flex_flow": null,
            "width": null,
            "min_width": null,
            "border": null,
            "align_items": null,
            "bottom": null,
            "_model_module": "@jupyter-widgets/base",
            "top": null,
            "grid_column": null,
            "overflow_y": null,
            "overflow_x": null,
            "grid_auto_flow": null,
            "grid_area": null,
            "grid_template_columns": null,
            "flex": null,
            "_model_name": "LayoutModel",
            "justify_items": null,
            "grid_row": null,
            "max_height": null,
            "align_content": null,
            "visibility": null,
            "align_self": null,
            "height": null,
            "min_height": null,
            "padding": null,
            "grid_auto_rows": null,
            "grid_gap": null,
            "max_width": null,
            "order": null,
            "_view_module_version": "1.2.0",
            "grid_template_areas": null,
            "object_position": null,
            "object_fit": null,
            "grid_auto_columns": null,
            "margin": null,
            "display": null,
            "left": null
          }
        }
      }
    },
    "colab": {
      "name": "convolution-intro.ipynb",
      "provenance": []
    }
  },
  "cells": [
    {
      "cell_type": "markdown",
      "metadata": {
        "id": "hehelQynSkKq"
      },
      "source": [
        "# Intro to Convolutions"
      ]
    },
    {
      "cell_type": "markdown",
      "metadata": {
        "id": "THYRJRNUSkKw"
      },
      "source": [
        "## Set up"
      ]
    },
    {
      "cell_type": "code",
      "metadata": {
        "id": "YK4RCIC5tOUQ",
        "outputId": "c5dbc294-ad24-430d-d1fb-0e19edf91d42",
        "colab": {
          "base_uri": "https://localhost:8080/"
        }
      },
      "source": [
        "!pip install scipy"
      ],
      "execution_count": 1,
      "outputs": [
        {
          "output_type": "stream",
          "text": [
            "Requirement already satisfied: scipy in /usr/local/lib/python3.6/dist-packages (1.4.1)\n",
            "Requirement already satisfied: numpy>=1.13.3 in /usr/local/lib/python3.6/dist-packages (from scipy) (1.18.5)\n"
          ],
          "name": "stdout"
        }
      ]
    },
    {
      "cell_type": "code",
      "metadata": {
        "id": "VYjxygteSkK0"
      },
      "source": [
        "%matplotlib inline\n",
        "import math,sys,os,numpy as np\n",
        "from numpy.linalg import norm\n",
        "from PIL import Image\n",
        "from matplotlib import pyplot as plt, rcParams, rc\n",
        "# from scipy.ndimage import imread\n",
        "from imageio import imread\n",
        "from skimage.measure import block_reduce\n",
        "import pickle as pickle\n",
        "from scipy.ndimage.filters import correlate, convolve\n",
        "from ipywidgets import interact, interactive, fixed\n",
        "from ipywidgets.widgets import *\n",
        "rc('animation', html='html5')\n",
        "rcParams['figure.figsize'] = 3, 6\n",
        "%precision 4\n",
        "np.set_printoptions(precision=4, linewidth=100)"
      ],
      "execution_count": 3,
      "outputs": []
    },
    {
      "cell_type": "code",
      "metadata": {
        "id": "eEpXmpO2SkLG"
      },
      "source": [
        "def plots(ims, interp=False, titles=None):\n",
        "    ims=np.array(ims)\n",
        "    mn,mx=ims.min(),ims.max()\n",
        "    f = plt.figure(figsize=(12,24))\n",
        "    for i in range(len(ims)):\n",
        "        sp=f.add_subplot(1, len(ims), i+1)\n",
        "        if not titles is None: sp.set_title(titles[i], fontsize=18)\n",
        "        plt.imshow(ims[i], interpolation=None if interp else 'none', vmin=mn,vmax=mx)\n",
        "\n",
        "def plot(im, interp=False):\n",
        "    f = plt.figure(figsize=(3,6), frameon=True)\n",
        "    # plt.show(im)\n",
        "    plt.imshow(im, interpolation=None if interp else 'none')\n",
        "\n",
        "plt.gray()\n",
        "plt.close()"
      ],
      "execution_count": 4,
      "outputs": []
    },
    {
      "cell_type": "markdown",
      "metadata": {
        "id": "PjinCobzSkLR"
      },
      "source": [
        "## MNIST Data"
      ]
    },
    {
      "cell_type": "code",
      "metadata": {
        "id": "_OIKofnnpJVZ",
        "outputId": "edfe6935-1452-44b4-fd41-a000728e9bed",
        "colab": {
          "base_uri": "https://localhost:8080/"
        }
      },
      "source": [
        "from tensorflow.keras.datasets import mnist\n",
        "(X_train, y_train), (X_test, y_test) = mnist.load_data()"
      ],
      "execution_count": 5,
      "outputs": [
        {
          "output_type": "stream",
          "text": [
            "Downloading data from https://storage.googleapis.com/tensorflow/tf-keras-datasets/mnist.npz\n",
            "11493376/11490434 [==============================] - 0s 0us/step\n"
          ],
          "name": "stdout"
        }
      ]
    },
    {
      "cell_type": "code",
      "metadata": {
        "id": "EaI89KgqpOp7"
      },
      "source": [
        "images_train = X_train\n",
        "labels_train = y_train\n",
        "images_test = X_test\n",
        "labels_test = y_test"
      ],
      "execution_count": 6,
      "outputs": []
    },
    {
      "cell_type": "code",
      "metadata": {
        "id": "uPQByNHQpn7-",
        "outputId": "de95f3c1-7b70-47b4-ccdd-cd280689a986",
        "colab": {
          "base_uri": "https://localhost:8080/"
        }
      },
      "source": [
        "print(images_train.shape)\n",
        "print(labels_train.shape)\n",
        "print(images_test.shape)\n",
        "print(labels_test.shape)\n"
      ],
      "execution_count": 7,
      "outputs": [
        {
          "output_type": "stream",
          "text": [
            "(60000, 28, 28)\n",
            "(60000,)\n",
            "(10000, 28, 28)\n",
            "(10000,)\n"
          ],
          "name": "stdout"
        }
      ]
    },
    {
      "cell_type": "code",
      "metadata": {
        "id": "DSI-aZ2tYsf0"
      },
      "source": [
        "# from tensorflow.keras.datasets import mnist\n",
        "# images,labels = mnist.load_data()\n"
      ],
      "execution_count": 8,
      "outputs": []
    },
    {
      "cell_type": "code",
      "metadata": {
        "id": "_N1kMA9FjXGs"
      },
      "source": [
        "images=images_train\n",
        "labels=labels_train.astype(int)\n"
      ],
      "execution_count": 9,
      "outputs": []
    },
    {
      "cell_type": "code",
      "metadata": {
        "id": "-f2aNGlnm3-X",
        "outputId": "e4aae613-e35d-4531-aba0-a5d029ddda4f",
        "colab": {
          "base_uri": "https://localhost:8080/"
        }
      },
      "source": [
        "n=len(labels)\n",
        "images.shape, labels.shape"
      ],
      "execution_count": 10,
      "outputs": [
        {
          "output_type": "execute_result",
          "data": {
            "text/plain": [
              "((60000, 28, 28), (60000,))"
            ]
          },
          "metadata": {
            "tags": []
          },
          "execution_count": 10
        }
      ]
    },
    {
      "cell_type": "code",
      "metadata": {
        "id": "dQ5VKiiVnW7z",
        "outputId": "5aa39ed4-716d-4776-87fa-b4c8a1c6ebe0",
        "colab": {
          "base_uri": "https://localhost:8080/"
        }
      },
      "source": [
        "images[0].shape"
      ],
      "execution_count": 11,
      "outputs": [
        {
          "output_type": "execute_result",
          "data": {
            "text/plain": [
              "(28, 28)"
            ]
          },
          "metadata": {
            "tags": []
          },
          "execution_count": 11
        }
      ]
    },
    {
      "cell_type": "code",
      "metadata": {
        "id": "GqKkI5BfSkLc"
      },
      "source": [
        "# mnist.keys()"
      ],
      "execution_count": 12,
      "outputs": []
    },
    {
      "cell_type": "code",
      "metadata": {
        "id": "pfWYuC1bSkLm"
      },
      "source": [
        "# mnist['data'].shape, mnist['target'].shape"
      ],
      "execution_count": 13,
      "outputs": []
    },
    {
      "cell_type": "code",
      "metadata": {
        "id": "pc29P4xoSkLv"
      },
      "source": [
        "# images = np.reshape(mnist['data'], (70000, 28, 28))\n",
        "# labels = mnist['target'].astype(int)\n",
        "# n=len(images)\n",
        "# images.shape, labels.shape"
      ],
      "execution_count": 14,
      "outputs": []
    },
    {
      "cell_type": "code",
      "metadata": {
        "id": "tyf7VnekSkL3"
      },
      "source": [
        "images_flip = images\n",
        "images = images/255"
      ],
      "execution_count": 15,
      "outputs": []
    },
    {
      "cell_type": "code",
      "metadata": {
        "id": "IIs5MHGASkMB",
        "outputId": "51a2a1d1-6a5d-4fdf-a26e-c27200837ec8",
        "colab": {
          "base_uri": "https://localhost:8080/",
          "height": 216
        }
      },
      "source": [
        "plot(images[0])"
      ],
      "execution_count": 16,
      "outputs": [
        {
          "output_type": "display_data",
          "data": {
            "image/png": "[encoded data removed]",
            "text/plain": [
              "<Figure size 216x432 with 1 Axes>"
            ]
          },
          "metadata": {
            "tags": [],
            "needs_background": "light"
          }
        }
      ]
    },
    {
      "cell_type": "code",
      "metadata": {
        "id": "V3KtfpQrSkMK",
        "outputId": "65d188db-c568-4dff-ef1d-ae380309903d",
        "colab": {
          "base_uri": "https://localhost:8080/"
        }
      },
      "source": [
        "labels[0]"
      ],
      "execution_count": 17,
      "outputs": [
        {
          "output_type": "execute_result",
          "data": {
            "text/plain": [
              "5"
            ]
          },
          "metadata": {
            "tags": []
          },
          "execution_count": 17
        }
      ]
    },
    {
      "cell_type": "code",
      "metadata": {
        "id": "YfTvmmsRSkMR",
        "outputId": "4239ccc5-d46f-4b53-8181-807b2b4d899f",
        "colab": {
          "base_uri": "https://localhost:8080/",
          "height": 183
        }
      },
      "source": [
        "plots(images[:5], titles=labels[:5])"
      ],
      "execution_count": 18,
      "outputs": [
        {
          "output_type": "display_data",
          "data": {
            "image/png": "[encoded data removed]",
            "text/plain": [
              "<Figure size 864x1728 with 5 Axes>"
            ]
          },
          "metadata": {
            "tags": [],
            "needs_background": "light"
          }
        }
      ]
    },
    {
      "cell_type": "markdown",
      "metadata": {
        "id": "QGTtpDJ4SkMY"
      },
      "source": [
        "we can zoom in on part of the image"
      ]
    },
    {
      "cell_type": "code",
      "metadata": {
        "id": "zJ4Nd9YhSkMZ",
        "outputId": "cf704123-14d4-4c9f-de63-5ae6209a0008",
        "colab": {
          "base_uri": "https://localhost:8080/",
          "height": 215
        }
      },
      "source": [
        "plot(images[0,0:14, 8:22])"
      ],
      "execution_count": 19,
      "outputs": [
        {
          "output_type": "display_data",
          "data": {
            "image/png": "[encoded data removed]",
            "text/plain": [
              "<Figure size 216x432 with 1 Axes>"
            ]
          },
          "metadata": {
            "tags": [],
            "needs_background": "light"
          }
        }
      ]
    },
    {
      "cell_type": "markdown",
      "metadata": {
        "id": "5ekk7sYLSkMg"
      },
      "source": [
        "## Edge Detection"
      ]
    },
    {
      "cell_type": "markdown",
      "metadata": {
        "id": "V5hYAubwSkMh"
      },
      "source": [
        "We will look at how to create an Edge detector:"
      ]
    },
    {
      "cell_type": "code",
      "metadata": {
        "id": "JiAdke1DSkMi",
        "outputId": "8345da31-2799-4c75-f357-84301e50f090",
        "colab": {
          "base_uri": "https://localhost:8080/",
          "height": 219
        }
      },
      "source": [
        "top=[[-1,-1,-1],\n",
        "     [ 1, 1, 1],\n",
        "     [ 0, 0, 0]]\n",
        "\n",
        "plot(top)"
      ],
      "execution_count": 20,
      "outputs": [
        {
          "output_type": "display_data",
          "data": {
            "image/png": "[encoded data removed]",
            "text/plain": [
              "<Figure size 216x432 with 1 Axes>"
            ]
          },
          "metadata": {
            "tags": [],
            "needs_background": "light"
          }
        }
      ]
    },
    {
      "cell_type": "code",
      "metadata": {
        "id": "zyX6zkSWjtNH",
        "outputId": "c873f167-f457-489f-fc9e-405e132eb4e3",
        "colab": {
          "base_uri": "https://localhost:8080/",
          "height": 344,
          "referenced_widgets": [
            "601d664a0383457dacf7a9f48516d3f8",
            "2812eb1c60e24a45b8b68ba3d8dbc403",
            "13eb7cd75af8407699331f20f742dc6e",
            "09eabeb8b7204e08aa48f9a70b6eb0b7",
            "19d0f9b4bd334a0a8975e38d3b9d17ac",
            "bd222ebe333a4fd4878d06fe9da97dd0",
            "ce3630a029f8454b8b046147ca7fbf68",
            "d6407325931a496ba837950005fdf8cc",
            "93523b2bec364d2facd5cb476d772557",
            "e998add8be2441cba2da6bd3626947f5",
            "394bbfe58a624c1398d60a5f25ce8bd6",
            "2833fb9815ce4e8fa78881686fba033c",
            "33f0d27491dc4046814b78f6e0843342",
            "0da6e22978dc4e9d879fc961e8174ba1",
            "aa9e846028fc4b2a89205605538f6c0e",
            "8c03908ecb8a4fdaa6dcc098b5443d06"
          ]
        }
      },
      "source": [
        "#Added from fasta2020 course notebook\n",
        "r=(0,28)\n",
        "def zoomim(x1=0,x2=28,y1=0,y2=28):\n",
        "    plot(images[0,y1:y2,x1:x2])\n",
        "w=interactive(zoomim, x1=r,x2=r,y1=r,y2=r)\n",
        "w"
      ],
      "execution_count": 21,
      "outputs": [
        {
          "output_type": "display_data",
          "data": {
            "application/vnd.jupyter.widget-view+json": {
              "model_id": "601d664a0383457dacf7a9f48516d3f8",
              "version_minor": 0,
              "version_major": 2
            },
            "text/plain": [
              "interactive(children=(IntSlider(value=0, description='x1', max=28), IntSlider(value=28, description='x2', max=…"
            ]
          },
          "metadata": {
            "tags": []
          }
        }
      ]
    },
    {
      "cell_type": "code",
      "metadata": {
        "id": "xoQ4qu0HSkMq",
        "outputId": "7d883975-55f5-42b5-dcbd-06d8e4f77687",
        "colab": {
          "base_uri": "https://localhost:8080/"
        }
      },
      "source": [
        "dims = np.index_exp[10:28:1,3:13]\n",
        "images[0][dims]"
      ],
      "execution_count": 22,
      "outputs": [
        {
          "output_type": "execute_result",
          "data": {
            "text/plain": [
              "array([[0.    , 0.    , 0.    , 0.    , 0.    , 0.    , 0.0549, 0.0039, 0.6039, 0.9922],\n",
              "       [0.    , 0.    , 0.    , 0.    , 0.    , 0.    , 0.    , 0.    , 0.5451, 0.9922],\n",
              "       [0.    , 0.    , 0.    , 0.    , 0.    , 0.    , 0.    , 0.    , 0.0431, 0.7451],\n",
              "       [0.    , 0.    , 0.    , 0.    , 0.    , 0.    , 0.    , 0.    , 0.    , 0.1373],\n",
              "       [0.    , 0.    , 0.    , 0.    , 0.    , 0.    , 0.    , 0.    , 0.    , 0.    ],\n",
              "       [0.    , 0.    , 0.    , 0.    , 0.    , 0.    , 0.    , 0.    , 0.    , 0.    ],\n",
              "       [0.    , 0.    , 0.    , 0.    , 0.    , 0.    , 0.    , 0.    , 0.    , 0.    ],\n",
              "       [0.    , 0.    , 0.    , 0.    , 0.    , 0.    , 0.    , 0.    , 0.    , 0.    ],\n",
              "       [0.    , 0.    , 0.    , 0.    , 0.    , 0.    , 0.    , 0.    , 0.    , 0.    ],\n",
              "       [0.    , 0.    , 0.    , 0.    , 0.    , 0.    , 0.    , 0.    , 0.    , 0.1529],\n",
              "       [0.    , 0.    , 0.    , 0.    , 0.    , 0.    , 0.    , 0.0941, 0.4471, 0.8667],\n",
              "       [0.    , 0.    , 0.    , 0.    , 0.    , 0.0902, 0.2588, 0.8353, 0.9922, 0.9922],\n",
              "       [0.    , 0.    , 0.    , 0.0706, 0.6706, 0.8588, 0.9922, 0.9922, 0.9922, 0.9922],\n",
              "       [0.    , 0.2157, 0.6745, 0.8863, 0.9922, 0.9922, 0.9922, 0.9922, 0.9569, 0.5216],\n",
              "       [0.    , 0.5333, 0.9922, 0.9922, 0.9922, 0.8314, 0.5294, 0.5176, 0.0627, 0.    ],\n",
              "       [0.    , 0.    , 0.    , 0.    , 0.    , 0.    , 0.    , 0.    , 0.    , 0.    ],\n",
              "       [0.    , 0.    , 0.    , 0.    , 0.    , 0.    , 0.    , 0.    , 0.    , 0.    ],\n",
              "       [0.    , 0.    , 0.    , 0.    , 0.    , 0.    , 0.    , 0.    , 0.    , 0.    ]])"
            ]
          },
          "metadata": {
            "tags": []
          },
          "execution_count": 22
        }
      ]
    },
    {
      "cell_type": "code",
      "metadata": {
        "id": "WeZPvcTySkMz"
      },
      "source": [
        "corrtop = correlate(images[0], top)"
      ],
      "execution_count": 23,
      "outputs": []
    },
    {
      "cell_type": "code",
      "metadata": {
        "scrolled": true,
        "id": "fWNI3B3TSkM9",
        "outputId": "621a0a66-3f53-4d1a-ca4f-da2903b06e9a",
        "colab": {
          "base_uri": "https://localhost:8080/"
        }
      },
      "source": [
        "corrtop[dims]"
      ],
      "execution_count": 24,
      "outputs": [
        {
          "output_type": "execute_result",
          "data": {
            "text/plain": [
              "array([[ 0.    ,  0.    ,  0.    ,  0.    , -0.3137, -0.8706, -1.2863, -1.3608, -0.8039, -0.8392],\n",
              "       [ 0.    ,  0.    ,  0.    ,  0.    ,  0.    , -0.0549, -0.0588, -0.1176, -0.0627,  0.3333],\n",
              "       [ 0.    ,  0.    ,  0.    ,  0.    ,  0.    ,  0.    ,  0.    , -0.502 , -0.749 , -0.502 ],\n",
              "       [ 0.    ,  0.    ,  0.    ,  0.    ,  0.    ,  0.    ,  0.    , -0.0431, -0.651 , -0.698 ],\n",
              "       [ 0.    ,  0.    ,  0.    ,  0.    ,  0.    ,  0.    ,  0.    ,  0.    , -0.1373, -0.7647],\n",
              "       [ 0.    ,  0.    ,  0.    ,  0.    ,  0.    ,  0.    ,  0.    ,  0.    ,  0.    , -0.3176],\n",
              "       [ 0.    ,  0.    ,  0.    ,  0.    ,  0.    ,  0.    ,  0.    ,  0.    ,  0.    ,  0.    ],\n",
              "       [ 0.    ,  0.    ,  0.    ,  0.    ,  0.    ,  0.    ,  0.    ,  0.    ,  0.    ,  0.    ],\n",
              "       [ 0.    ,  0.    ,  0.    ,  0.    ,  0.    ,  0.    ,  0.    ,  0.    ,  0.    ,  0.    ],\n",
              "       [ 0.    ,  0.    ,  0.    ,  0.    ,  0.    ,  0.    ,  0.    ,  0.    ,  0.1529,  0.7333],\n",
              "       [ 0.    ,  0.    ,  0.    ,  0.    ,  0.    ,  0.    ,  0.0941,  0.5412,  1.2549,  1.5725],\n",
              "       [ 0.    ,  0.    ,  0.    ,  0.    ,  0.0902,  0.349 ,  1.0902,  1.5451,  1.4118,  0.6706],\n",
              "       [ 0.    ,  0.    ,  0.0706,  0.7412,  1.5098,  2.1725,  1.6588,  0.8902,  0.1569, -0.2275],\n",
              "       [ 0.2157,  0.8902,  1.7059,  1.8118,  1.2706,  0.4549,  0.1333, -0.0353, -0.5059, -1.2275],\n",
              "       [ 0.3176,  0.6353,  0.7412,  0.4235, -0.0549, -0.6235, -1.098 , -1.8314, -1.8902, -1.4588],\n",
              "       [-0.5333, -1.5255, -2.5176, -2.9765, -2.8157, -2.3529, -1.8784, -1.1098, -0.5804, -0.0627],\n",
              "       [ 0.    ,  0.    ,  0.    ,  0.    ,  0.    ,  0.    ,  0.    ,  0.    ,  0.    ,  0.    ],\n",
              "       [ 0.    ,  0.    ,  0.    ,  0.    ,  0.    ,  0.    ,  0.    ,  0.    ,  0.    ,  0.    ]])"
            ]
          },
          "metadata": {
            "tags": []
          },
          "execution_count": 24
        }
      ]
    },
    {
      "cell_type": "code",
      "metadata": {
        "id": "3nWAkWt3SkNE",
        "outputId": "33d1cfc5-4a13-45c3-bdec-bfe68b655b88",
        "colab": {
          "base_uri": "https://localhost:8080/",
          "height": 216
        }
      },
      "source": [
        "plot(corrtop)"
      ],
      "execution_count": 25,
      "outputs": [
        {
          "output_type": "display_data",
          "data": {
            "image/png": "[encoded data removed]",
            "text/plain": [
              "<Figure size 216x432 with 1 Axes>"
            ]
          },
          "metadata": {
            "tags": [],
            "needs_background": "light"
          }
        }
      ]
    },
    {
      "cell_type": "code",
      "metadata": {
        "id": "PCosJpy6SkNL",
        "outputId": "17463aa0-e816-4dd6-d5f1-3a147a90b515",
        "colab": {
          "base_uri": "https://localhost:8080/"
        }
      },
      "source": [
        "np.rot90(top, 1)"
      ],
      "execution_count": 26,
      "outputs": [
        {
          "output_type": "execute_result",
          "data": {
            "text/plain": [
              "array([[-1,  1,  0],\n",
              "       [-1,  1,  0],\n",
              "       [-1,  1,  0]])"
            ]
          },
          "metadata": {
            "tags": []
          },
          "execution_count": 26
        }
      ]
    },
    {
      "cell_type": "code",
      "metadata": {
        "scrolled": true,
        "id": "WmNU0rI8SkNS",
        "outputId": "c3cf2b1f-df0e-4d39-f46f-6e9fc67feee0",
        "colab": {
          "base_uri": "https://localhost:8080/",
          "height": 233
        }
      },
      "source": [
        "convtop = convolve(images[0], np.rot90(top,2))\n",
        "plot(convtop)\n",
        "np.allclose(convtop, corrtop)"
      ],
      "execution_count": 27,
      "outputs": [
        {
          "output_type": "execute_result",
          "data": {
            "text/plain": [
              "True"
            ]
          },
          "metadata": {
            "tags": []
          },
          "execution_count": 27
        },
        {
          "output_type": "display_data",
          "data": {
            "image/png": "[encoded data removed]",
            "text/plain": [
              "<Figure size 216x432 with 1 Axes>"
            ]
          },
          "metadata": {
            "tags": [],
            "needs_background": "light"
          }
        }
      ]
    },
    {
      "cell_type": "code",
      "metadata": {
        "id": "CleksLT0SkNZ",
        "outputId": "fd6c083d-695d-40bc-c7e7-d45e27c1ca22",
        "colab": {
          "base_uri": "https://localhost:8080/",
          "height": 197
        }
      },
      "source": [
        "straights=[np.rot90(top,i) for i in range(4)]\n",
        "plots(straights)"
      ],
      "execution_count": 28,
      "outputs": [
        {
          "output_type": "display_data",
          "data": {
            "image/png": "[encoded data removed]",
            "text/plain": [
              "<Figure size 864x1728 with 4 Axes>"
            ]
          },
          "metadata": {
            "tags": [],
            "needs_background": "light"
          }
        }
      ]
    },
    {
      "cell_type": "code",
      "metadata": {
        "id": "Aylx7rG0SkNd",
        "outputId": "64bcad27-acdd-4e90-c937-e5c29377186f",
        "colab": {
          "base_uri": "https://localhost:8080/",
          "height": 197
        }
      },
      "source": [
        "br=[[ 0, 0, 1],\n",
        "    [ 0, 1,-1.5],\n",
        "    [ 1,-1.5, 0]]\n",
        "\n",
        "diags = [np.rot90(br,i) for i in range(4)]\n",
        "plots(diags)"
      ],
      "execution_count": 29,
      "outputs": [
        {
          "output_type": "display_data",
          "data": {
            "image/png": "[encoded data removed]",
            "text/plain": [
              "<Figure size 864x1728 with 4 Axes>"
            ]
          },
          "metadata": {
            "tags": [],
            "needs_background": "light"
          }
        }
      ]
    },
    {
      "cell_type": "code",
      "metadata": {
        "id": "qwCPxTR9SkNg",
        "outputId": "e288048a-2b87-4527-e19a-42e9408687e2",
        "colab": {
          "base_uri": "https://localhost:8080/",
          "height": 122
        }
      },
      "source": [
        "rots = straights + diags\n",
        "corrs = [correlate(images[0], rot) for rot in rots]\n",
        "plots(corrs)"
      ],
      "execution_count": 30,
      "outputs": [
        {
          "output_type": "display_data",
          "data": {
            "image/png": "[encoded data removed]",
            "text/plain": [
              "<Figure size 864x1728 with 8 Axes>"
            ]
          },
          "metadata": {
            "tags": [],
            "needs_background": "light"
          }
        }
      ]
    },
    {
      "cell_type": "code",
      "metadata": {
        "id": "3WhmDYVZSkNi"
      },
      "source": [
        "eights=[images[i] for i in range(n) if labels[i]==8]\n",
        "ones=[images[i] for i in range(n) if labels[i]==1]"
      ],
      "execution_count": 31,
      "outputs": []
    },
    {
      "cell_type": "code",
      "metadata": {
        "id": "SFTOzuMoSkNl",
        "outputId": "10f9bdeb-4e1f-4675-b355-ff289e024ba5",
        "colab": {
          "base_uri": "https://localhost:8080/",
          "height": 313
        }
      },
      "source": [
        "plots(eights[:5])\n",
        "plots(ones[:5])"
      ],
      "execution_count": 32,
      "outputs": [
        {
          "output_type": "display_data",
          "data": {
            "image/png": "[encoded data removed]",
            "text/plain": [
              "<Figure size 864x1728 with 5 Axes>"
            ]
          },
          "metadata": {
            "tags": [],
            "needs_background": "light"
          }
        },
        {
          "output_type": "display_data",
          "data": {
            "image/png": "[encoded data removed]",
            "text/plain": [
              "<Figure size 864x1728 with 5 Axes>"
            ]
          },
          "metadata": {
            "tags": [],
            "needs_background": "light"
          }
        }
      ]
    },
    {
      "cell_type": "code",
      "metadata": {
        "id": "H7Oh8UD1SkNn"
      },
      "source": [
        "def normalize(arr): return (arr-arr.mean())/arr.std()"
      ],
      "execution_count": 33,
      "outputs": []
    },
    {
      "cell_type": "code",
      "metadata": {
        "id": "N-tqUsu0SkNp",
        "outputId": "81a1332c-98e5-4648-a854-8b5bad7d7478",
        "colab": {
          "base_uri": "https://localhost:8080/",
          "height": 180
        }
      },
      "source": [
        "filts8 = np.array([ims.mean(axis=0) for ims in pool8])\n",
        "filts8 = normalize(filts8)"
      ],
      "execution_count": 34,
      "outputs": [
        {
          "output_type": "error",
          "ename": "NameError",
          "evalue": "ignored",
          "traceback": [
            "\u001b[0;31m---------------------------------------------------------------------------\u001b[0m",
            "\u001b[0;31mNameError\u001b[0m                                 Traceback (most recent call last)",
            "\u001b[0;32m<ipython-input-34-666c5672234f>\u001b[0m in \u001b[0;36m<module>\u001b[0;34m()\u001b[0m\n\u001b[0;32m----> 1\u001b[0;31m \u001b[0mfilts8\u001b[0m \u001b[0;34m=\u001b[0m \u001b[0mnp\u001b[0m\u001b[0;34m.\u001b[0m\u001b[0marray\u001b[0m\u001b[0;34m(\u001b[0m\u001b[0;34m[\u001b[0m\u001b[0mims\u001b[0m\u001b[0;34m.\u001b[0m\u001b[0mmean\u001b[0m\u001b[0;34m(\u001b[0m\u001b[0maxis\u001b[0m\u001b[0;34m=\u001b[0m\u001b[0;36m0\u001b[0m\u001b[0;34m)\u001b[0m \u001b[0;32mfor\u001b[0m \u001b[0mims\u001b[0m \u001b[0;32min\u001b[0m \u001b[0mpool8\u001b[0m\u001b[0;34m]\u001b[0m\u001b[0;34m)\u001b[0m\u001b[0;34m\u001b[0m\u001b[0;34m\u001b[0m\u001b[0m\n\u001b[0m\u001b[1;32m      2\u001b[0m \u001b[0mfilts8\u001b[0m \u001b[0;34m=\u001b[0m \u001b[0mnormalize\u001b[0m\u001b[0;34m(\u001b[0m\u001b[0mfilts8\u001b[0m\u001b[0;34m)\u001b[0m\u001b[0;34m\u001b[0m\u001b[0;34m\u001b[0m\u001b[0m\n",
            "\u001b[0;31mNameError\u001b[0m: name 'pool8' is not defined"
          ]
        }
      ]
    },
    {
      "cell_type": "code",
      "metadata": {
        "id": "_9OWqwfeSkNs",
        "outputId": "06f1316d-a860-47f8-b512-78ac16530bb1",
        "colab": {
          "base_uri": "https://localhost:8080/",
          "height": 163
        }
      },
      "source": [
        "plots(filts8)"
      ],
      "execution_count": 94,
      "outputs": [
        {
          "output_type": "error",
          "ename": "NameError",
          "evalue": "ignored",
          "traceback": [
            "\u001b[0;31m---------------------------------------------------------------------------\u001b[0m",
            "\u001b[0;31mNameError\u001b[0m                                 Traceback (most recent call last)",
            "\u001b[0;32m<ipython-input-94-2a3b7223592c>\u001b[0m in \u001b[0;36m<module>\u001b[0;34m()\u001b[0m\n\u001b[0;32m----> 1\u001b[0;31m \u001b[0mplots\u001b[0m\u001b[0;34m(\u001b[0m\u001b[0mfilts8\u001b[0m\u001b[0;34m)\u001b[0m\u001b[0;34m\u001b[0m\u001b[0;34m\u001b[0m\u001b[0m\n\u001b[0m",
            "\u001b[0;31mNameError\u001b[0m: name 'filts8' is not defined"
          ]
        }
      ]
    },
    {
      "cell_type": "code",
      "metadata": {
        "id": "Df1N3C-tSkNv"
      },
      "source": [
        "pool1 = [np.array([pool(correlate(im, rot)) for im in ones]) for rot in rots]\n",
        "filts1 = np.array([ims.mean(axis=0) for ims in pool1])\n",
        "filts1 = normalize(filts1)"
      ],
      "execution_count": null,
      "outputs": []
    },
    {
      "cell_type": "code",
      "metadata": {
        "id": "a5LT2wcoSkNw",
        "outputId": "8b3b6851-0bc1-4f45-e3c3-b2548d8750d4"
      },
      "source": [
        "plots(filts1)"
      ],
      "execution_count": null,
      "outputs": [
        {
          "output_type": "display_data",
          "data": {
            "image/png": "[encoded data removed]",
            "text/plain": [
              "<matplotlib.figure.Figure at 0x7f0aa6ef2b50>"
            ]
          },
          "metadata": {
            "tags": []
          }
        }
      ]
    },
    {
      "cell_type": "code",
      "metadata": {
        "id": "zV0Svnw4SkNy"
      },
      "source": [
        "def pool_corr(im): return np.array([pool(correlate(im, rot)) for rot in rots])"
      ],
      "execution_count": null,
      "outputs": []
    },
    {
      "cell_type": "code",
      "metadata": {
        "id": "t89J_Y2SSkN0",
        "outputId": "411a329b-0cf6-47be-dbbb-733cca07724b"
      },
      "source": [
        "plots(pool_corr(eights[0]))"
      ],
      "execution_count": null,
      "outputs": [
        {
          "output_type": "display_data",
          "data": {
            "image/png": "[encoded data removed]",
            "text/plain": [
              "<matplotlib.figure.Figure at 0x7f0aa77da8d0>"
            ]
          },
          "metadata": {
            "tags": []
          }
        }
      ]
    },
    {
      "cell_type": "code",
      "metadata": {
        "id": "_d4QNbjcSkN2"
      },
      "source": [
        "def sse(a,b): return ((a-b)**2).sum()\n",
        "def is8_n2(im): return 1 if sse(pool_corr(im),filts1) > sse(pool_corr(im),filts8) else 0"
      ],
      "execution_count": null,
      "outputs": []
    },
    {
      "cell_type": "code",
      "metadata": {
        "id": "ZJ0GblYbSkN4",
        "outputId": "79da402c-79c1-413b-9655-ca2f4f8b6c67"
      },
      "source": [
        "sse(pool_corr(eights[0]), filts8), sse(pool_corr(eights[0]), filts1)"
      ],
      "execution_count": null,
      "outputs": [
        {
          "output_type": "execute_result",
          "data": {
            "text/plain": [
              "(126.77776, 181.26105)"
            ]
          },
          "metadata": {
            "tags": []
          },
          "execution_count": 36
        }
      ]
    },
    {
      "cell_type": "code",
      "metadata": {
        "id": "e-JTk83HSkN6",
        "outputId": "acdf0d06-29d9-498f-e220-085ffde881b4"
      },
      "source": [
        "[np.array([is8_n2(im) for im in ims]).sum() for ims in [eights,ones]]"
      ],
      "execution_count": null,
      "outputs": [
        {
          "output_type": "execute_result",
          "data": {
            "text/plain": [
              "[5223, 287]"
            ]
          },
          "metadata": {
            "tags": []
          },
          "execution_count": 37
        }
      ]
    },
    {
      "cell_type": "code",
      "metadata": {
        "id": "57vAt-QPSkN8",
        "outputId": "916d2b67-8915-4f7a-bab8-5288d11b78fd"
      },
      "source": [
        "[np.array([(1-is8_n2(im)) for im in ims]).sum() for ims in [eights,ones]]"
      ],
      "execution_count": null,
      "outputs": [
        {
          "output_type": "execute_result",
          "data": {
            "text/plain": [
              "[166, 5892]"
            ]
          },
          "metadata": {
            "tags": []
          },
          "execution_count": 38
        }
      ]
    },
    {
      "cell_type": "code",
      "metadata": {
        "id": "QA-1quV1SkN-"
      },
      "source": [
        "def n1(a,b): return (np.fabs(a-b)).sum()\n",
        "def is8_n1(im): return 1 if n1(pool_corr(im),filts1) > n1(pool_corr(im),filts8) else 0"
      ],
      "execution_count": null,
      "outputs": []
    },
    {
      "cell_type": "code",
      "metadata": {
        "id": "c9lSsa6HSkOA"
      },
      "source": [
        "[np.array([is8_n1(im) for im in ims]).sum() for ims in [eights,ones]]"
      ],
      "execution_count": null,
      "outputs": []
    },
    {
      "cell_type": "code",
      "metadata": {
        "id": "01JiLQTaSkOC"
      },
      "source": [
        "[np.array([(1-is8_n1(im)) for im in ims]).sum() for ims in [eights,ones]]"
      ],
      "execution_count": null,
      "outputs": []
    },
    {
      "cell_type": "code",
      "metadata": {
        "id": "qlA1RKekSkOE"
      },
      "source": [
        ""
      ],
      "execution_count": null,
      "outputs": []
    }
  ]
}